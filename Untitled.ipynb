{
 "cells": [
  {
   "cell_type": "code",
   "execution_count": 1,
   "metadata": {},
   "outputs": [],
   "source": [
    "import cv2\n",
    "import PIL\n",
    "import matplotlib.pyplot as plt\n",
    "import numpy as np\n",
    "import pandas as pd\n",
    "import torch\n",
    "import torch.nn as nn\n",
    "import torch.nn.functional as F\n",
    "import time\n",
    "import tqdm\n",
    "import os\n",
    "\n",
    "from PIL import Image\n",
    "from torchvision import transforms as T\n",
    "from torchvision.models.alexnet import AlexNet\n",
    "from torchvision.models.resnet import resnet18, resnet34, resnet50, resnet101, resnet152\n",
    "from torch.utils.data import IterableDataset, DataLoader, Dataset\n",
    "from sklearn.metrics import classification_report, accuracy_score, f1_score, average_precision_score\n",
    "from sklearn.model_selection import train_test_split, KFold\n",
    "\n",
    "DEVICE = 'cuda' if torch.cuda.is_available() else 'cpu'\n",
    "\n",
    "\n",
    "class BonzDataset(Dataset):\n",
    "    def __init__(self, data):\n",
    "        super(BonzDataset, self).__init__()\n",
    "        self.image_prefixes = data.image_prefixes.values\n",
    "        self.features = data.features.values\n",
    "        self.img_tensors = data.img_tensors.values\n",
    "        if 'labels' in data:\n",
    "            self.labels = data.labels.values\n",
    "            self.one_hot_labels = data.one_hot_labels.values\n",
    "        else:\n",
    "            self.labels=None\n",
    "    \n",
    "    def __len__(self):\n",
    "        return len(self.image_prefixes)\n",
    "    \n",
    "    def __getitem__(self, idx):\n",
    "        outputs = (self.img_tensors[idx], self.features[idx],)\n",
    "        if self.labels is not None:\n",
    "            outputs += (self.one_hot_labels[idx], self.labels[idx])\n",
    "        return outputs\n",
    "    \n",
    "        \n",
    "class Bonz(nn.Module):\n",
    "    def __init__(self, hidden_dim=100, feature_selection=12):\n",
    "        super(Bonz, self).__init__()\n",
    "        self.resnet = resnet50(True)\n",
    "        self.BiLSTM = nn.LSTM(2048, hidden_dim, batch_first=True, bidirectional=True)\n",
    "        self.classifier = nn.Sequential(\n",
    "            nn.Dropout(0.2),\n",
    "            nn.Linear(hidden_dim*2 + feature_selection, 4098),\n",
    "            nn.LeakyReLU(0.001, inplace=True),\n",
    "            nn.Dropout(0.2),\n",
    "            nn.Linear(4098, 2048),\n",
    "            nn.LeakyReLU(0.001, inplace=True),\n",
    "            nn.Dropout(0.2),\n",
    "            nn.Linear(2048, 20),\n",
    "        )\n",
    "        self.classifier.apply(self._init_weights)\n",
    "    \n",
    "    def forward(self, imgs, features=None):\n",
    "        # Generate featuress from each images\n",
    "        x = []\n",
    "        for img in imgs:\n",
    "            temp = self.do_resnet(img)\n",
    "            x.append(temp.unsqueeze(1))\n",
    "        x = torch.cat(x, 1)\n",
    "        \n",
    "        # LSTM step\n",
    "        x, _ = self.BiLSTM(x)\n",
    "        last_hidden = x[:,-1,:]\n",
    "        \n",
    "        # Concate features\n",
    "        total_features = torch.cat([last_hidden, features], -1)\n",
    "        predict = self.classifier(total_features)\n",
    "\n",
    "        return predict\n",
    "    \n",
    "    def _init_weights(self, module):\n",
    "        if isinstance(module, (nn.Linear, nn.Embedding, nn.Conv1d)):\n",
    "            module.weight.data.normal_(mean=0.0, std=0.02)\n",
    "            if isinstance(module, (nn.Linear, nn.Conv1d)) and module.bias is not None:\n",
    "                module.bias.data.zero_()\n",
    "        elif isinstance(module, nn.LayerNorm):\n",
    "            module.bias.data.zero_()\n",
    "            module.weight.data.fill_(1.0)\n",
    "    \n",
    "    def do_resnet(self, img):\n",
    "        x = self.resnet.conv1(img)\n",
    "        x = self.resnet.bn1(x)\n",
    "        x = self.resnet.relu(x)\n",
    "        x = self.resnet.maxpool(x)\n",
    "\n",
    "        x = self.resnet.layer1(x)\n",
    "        x = self.resnet.layer2(x)\n",
    "        x = self.resnet.layer3(x)\n",
    "        x = self.resnet.layer4(x)\n",
    "\n",
    "        x = self.resnet.avgpool(x)\n",
    "        x = torch.flatten(x, 1)\n",
    "        \n",
    "        return x\n",
    "    \n",
    "    def freeze_resnet(self):\n",
    "        for w in self.resnet.parameters():\n",
    "            w.requires_grad = False\n",
    "            \n",
    "    def unfreeze_resnet(self):\n",
    "        for w in self.resnet.parameters():\n",
    "            w.requires_grad = True "
   ]
  },
  {
   "cell_type": "code",
   "execution_count": 2,
   "metadata": {},
   "outputs": [
    {
     "data": {
      "application/vnd.jupyter.widget-view+json": {
       "model_id": "1b37c14a33954efbaf974edd298b4b02",
       "version_major": 2,
       "version_minor": 0
      },
      "text/plain": [
       "HBox(children=(FloatProgress(value=0.0, max=200.0), HTML(value='')))"
      ]
     },
     "metadata": {},
     "output_type": "display_data"
    },
    {
     "name": "stdout",
     "output_type": "stream",
     "text": [
      "\n"
     ]
    }
   ],
   "source": [
    "#del model\n",
    "def get_data(path):\n",
    "    data = pd.read_csv(path, index_col=0)\n",
    "    resnet_idx = list(data.columns).index('data_AUTOGRAPHER_RESNET_mean_tench, Tinca tinca')\n",
    "    new_data = data.iloc[:,:resnet_idx]\n",
    "    new_data['labels'] = [int(i[-2:])-1 for i in new_data.event_id.values]\n",
    "    new_data['image_prefixes'] = list(map(lambda x,y,z: str(x)+'_'+str(y)+'_'+str(z), \n",
    "                                      new_data.sub_id.values, \n",
    "                                      new_data.source.values, \n",
    "                                      new_data.event_id.values))\n",
    "    new_data['one_hot_labels'] = list(map(lambda x: nn.functional.one_hot(torch.tensor(x), 20).float(), new_data.labels.values))\n",
    "    new_data['features'] = [torch.tensor(i).float() for i in new_data.iloc[:, 3:-3].values]\n",
    "    new_data['img_tensors'] = get_img_tensors(new_data['image_prefixes'].values)\n",
    "    return new_data.iloc[:, -5:]\n",
    "\n",
    "\n",
    "def get_test_data(path):\n",
    "    data = pd.read_csv(path)\n",
    "    new_data = data.iloc[:,0:16]\n",
    "    new_data['labels'] = [i-1 for i in new_data.action_id.values]\n",
    "    new_data['image_prefixes'] = list(map(lambda x,y: str(x)+'_'+str(y), \n",
    "                                      new_data.sub_id.values, \n",
    "                                      new_data.event_id.values))\n",
    "    new_data['one_hot_labels'] = list(map(lambda x: nn.functional.one_hot(torch.tensor(x), 20).float(), new_data.labels.values))\n",
    "    new_data['features'] = [torch.tensor(i).float() for i in new_data.iloc[:, 4:16].values]\n",
    "    new_data['img_tensors'] = get_img_tensors(new_data['image_prefixes'].values)\n",
    "    return new_data.iloc[:, -5:]\n",
    "\n",
    "\n",
    "def get_img_tensors(image_prefixes):\n",
    "    transform = T.Compose([\n",
    "        T.Resize(256),\n",
    "        T.CenterCrop(224),\n",
    "        T.ToTensor(),\n",
    "        T.Normalize(mean=[0.485, 0.456, 0.406], std=[0.229, 0.224, 0.225]),\n",
    "    ])\n",
    "    temp = []\n",
    "    \n",
    "    for img_prefix in tqdm.notebook.tqdm(image_prefixes):\n",
    "        img_paths = []\n",
    "        i = 0\n",
    "        img_name = img_prefix+'_'+str(i)+'.jpg'\n",
    "        while img_name in os.listdir('./OUTPUT_MERGED/AUTOGRAPHER/'):\n",
    "            img_paths.append('./OUTPUT_MERGED/AUTOGRAPHER/'+img_name)\n",
    "            i += 1\n",
    "            img_name = img_prefix+'_'+str(i)+'.jpg'\n",
    "\n",
    "        # Transform images to tensors\n",
    "        img_tensors = []\n",
    "        for path in img_paths:\n",
    "            img = Image.open(path)\n",
    "            img_tensors.append(transform(img))\n",
    "\n",
    "        temp.append(img_tensors)\n",
    "\n",
    "    return temp\n",
    "\n",
    "        \n",
    "train_data = get_data('min_max.csv')\n",
    "#test_data = get_test_data('test_normalization(delete).csv')\n",
    "\n",
    "\n",
    "model = Bonz(hidden_dim=2048, feature_selection=train_data.features[0].shape[0])\n",
    "origin_state_dict = model.state_dict()"
   ]
  },
  {
   "cell_type": "markdown",
   "metadata": {},
   "source": [
    "# 10-Folds CV"
   ]
  },
  {
   "cell_type": "code",
   "execution_count": 3,
   "metadata": {},
   "outputs": [
    {
     "data": {
      "application/vnd.jupyter.widget-view+json": {
       "model_id": "238381738d8e4452a7c82c2740d2c7ca",
       "version_major": 2,
       "version_minor": 0
      },
      "text/plain": [
       "HBox(children=(FloatProgress(value=1.0, bar_style='info', description='K-Fold', max=1.0, style=ProgressStyle(d…"
      ]
     },
     "metadata": {},
     "output_type": "display_data"
    },
    {
     "data": {
      "application/vnd.jupyter.widget-view+json": {
       "model_id": "ca0daf276016497aaff969c9d8d57176",
       "version_major": 2,
       "version_minor": 0
      },
      "text/plain": [
       "HBox(children=(FloatProgress(value=0.0, max=20.0), HTML(value='')))"
      ]
     },
     "metadata": {},
     "output_type": "display_data"
    },
    {
     "name": "stdout",
     "output_type": "stream",
     "text": [
      "\n",
      "Loss = 6.27,\t Train_acc=0.97,\t Train_f1=0.97,\t Time = 20.46\n"
     ]
    },
    {
     "data": {
      "application/vnd.jupyter.widget-view+json": {
       "model_id": "facab31c1460436a845d87cf71fd9741",
       "version_major": 2,
       "version_minor": 0
      },
      "text/plain": [
       "HBox(children=(FloatProgress(value=0.0, max=20.0), HTML(value='')))"
      ]
     },
     "metadata": {},
     "output_type": "display_data"
    },
    {
     "name": "stdout",
     "output_type": "stream",
     "text": [
      "\n",
      "Loss = 11.70,\t Train_acc=0.92,\t Train_f1=0.92,\t Time = 20.42\n"
     ]
    },
    {
     "data": {
      "application/vnd.jupyter.widget-view+json": {
       "model_id": "e2023ad773224f1d949cf7d8fa8cdf55",
       "version_major": 2,
       "version_minor": 0
      },
      "text/plain": [
       "HBox(children=(FloatProgress(value=0.0, max=20.0), HTML(value='')))"
      ]
     },
     "metadata": {},
     "output_type": "display_data"
    },
    {
     "name": "stdout",
     "output_type": "stream",
     "text": [
      "\n",
      "Loss = 4.73,\t Train_acc=0.97,\t Train_f1=0.97,\t Time = 19.45\n"
     ]
    },
    {
     "data": {
      "application/vnd.jupyter.widget-view+json": {
       "model_id": "d0d11ba220c840958e38836b22f58244",
       "version_major": 2,
       "version_minor": 0
      },
      "text/plain": [
       "HBox(children=(FloatProgress(value=0.0, max=20.0), HTML(value='')))"
      ]
     },
     "metadata": {},
     "output_type": "display_data"
    },
    {
     "name": "stdout",
     "output_type": "stream",
     "text": [
      "\n",
      "Loss = 7.33,\t Train_acc=0.96,\t Train_f1=0.96,\t Time = 18.76\n"
     ]
    },
    {
     "data": {
      "application/vnd.jupyter.widget-view+json": {
       "model_id": "b513356a90bf4d749108eaa711df78b1",
       "version_major": 2,
       "version_minor": 0
      },
      "text/plain": [
       "HBox(children=(FloatProgress(value=0.0, max=20.0), HTML(value='')))"
      ]
     },
     "metadata": {},
     "output_type": "display_data"
    },
    {
     "name": "stdout",
     "output_type": "stream",
     "text": [
      "\n",
      "Loss = 4.14,\t Train_acc=0.99,\t Train_f1=0.99,\t Time = 19.41\n"
     ]
    },
    {
     "data": {
      "application/vnd.jupyter.widget-view+json": {
       "model_id": "5d936c91a7ee4c5491d27fbdd4dbccb0",
       "version_major": 2,
       "version_minor": 0
      },
      "text/plain": [
       "HBox(children=(FloatProgress(value=0.0, max=20.0), HTML(value='')))"
      ]
     },
     "metadata": {},
     "output_type": "display_data"
    },
    {
     "name": "stdout",
     "output_type": "stream",
     "text": [
      "\n",
      "Loss = 6.84,\t Train_acc=0.96,\t Train_f1=0.96,\t Time = 19.00\n"
     ]
    },
    {
     "data": {
      "application/vnd.jupyter.widget-view+json": {
       "model_id": "613e2fb2866a423e91363bcfda8832f4",
       "version_major": 2,
       "version_minor": 0
      },
      "text/plain": [
       "HBox(children=(FloatProgress(value=0.0, max=20.0), HTML(value='')))"
      ]
     },
     "metadata": {},
     "output_type": "display_data"
    },
    {
     "name": "stdout",
     "output_type": "stream",
     "text": [
      "\n",
      "Loss = 6.88,\t Train_acc=0.96,\t Train_f1=0.96,\t Time = 18.83\n"
     ]
    },
    {
     "data": {
      "application/vnd.jupyter.widget-view+json": {
       "model_id": "02cca6a6167b4c75b926907860deaf3f",
       "version_major": 2,
       "version_minor": 0
      },
      "text/plain": [
       "HBox(children=(FloatProgress(value=0.0, max=20.0), HTML(value='')))"
      ]
     },
     "metadata": {},
     "output_type": "display_data"
    },
    {
     "name": "stdout",
     "output_type": "stream",
     "text": [
      "\n",
      "Loss = 8.40,\t Train_acc=0.94,\t Train_f1=0.94,\t Time = 19.31\n"
     ]
    },
    {
     "data": {
      "application/vnd.jupyter.widget-view+json": {
       "model_id": "1e0038c7e9fb4f82b851360cc3f7bad0",
       "version_major": 2,
       "version_minor": 0
      },
      "text/plain": [
       "HBox(children=(FloatProgress(value=0.0, max=20.0), HTML(value='')))"
      ]
     },
     "metadata": {},
     "output_type": "display_data"
    },
    {
     "name": "stdout",
     "output_type": "stream",
     "text": [
      "\n",
      "Loss = 9.40,\t Train_acc=0.94,\t Train_f1=0.94,\t Time = 18.70\n"
     ]
    },
    {
     "data": {
      "application/vnd.jupyter.widget-view+json": {
       "model_id": "f56d3c43502b47c18534b9e3989b4403",
       "version_major": 2,
       "version_minor": 0
      },
      "text/plain": [
       "HBox(children=(FloatProgress(value=0.0, max=20.0), HTML(value='')))"
      ]
     },
     "metadata": {},
     "output_type": "display_data"
    },
    {
     "name": "stdout",
     "output_type": "stream",
     "text": [
      "\n",
      "Loss = 8.19,\t Train_acc=0.96,\t Train_f1=0.96,\t Time = 18.94\n",
      "\n",
      "              precision    recall  f1-score   support\n",
      "\n",
      "           0       0.60      0.60      0.60        10\n",
      "           1       0.67      0.60      0.63        10\n",
      "           2       0.70      0.70      0.70        10\n",
      "           3       0.21      0.30      0.25        10\n",
      "           4       0.71      0.50      0.59        10\n",
      "           5       0.60      0.60      0.60        10\n",
      "           6       0.57      0.40      0.47        10\n",
      "           7       0.82      0.90      0.86        10\n",
      "           8       0.40      0.40      0.40        10\n",
      "           9       0.70      0.70      0.70        10\n",
      "          10       0.58      0.70      0.64        10\n",
      "          11       0.62      0.80      0.70        10\n",
      "          12       0.78      0.70      0.74        10\n",
      "          13       0.36      0.40      0.38        10\n",
      "          14       0.17      0.10      0.12        10\n",
      "          15       0.11      0.10      0.11        10\n",
      "          16       0.67      0.60      0.63        10\n",
      "          17       0.38      0.30      0.33        10\n",
      "          18       0.50      0.60      0.55        10\n",
      "          19       0.62      0.80      0.70        10\n",
      "\n",
      "    accuracy                           0.54       200\n",
      "   macro avg       0.54      0.54      0.53       200\n",
      "weighted avg       0.54      0.54      0.53       200\n",
      "\n"
     ]
    }
   ],
   "source": [
    "# Train with UNFREEZE ResNet\n",
    "model.unfreeze_resnet()\n",
    "\n",
    "model.to(DEVICE)\n",
    "last_predicts = []\n",
    "last_predict_matrix = []\n",
    "\n",
    "kF = KFold(n_splits=10)\n",
    "for train_idx, val_idx in tqdm.notebook.tqdm(kF.split(train_data.labels.values), desc='K-Fold'):\n",
    "    train_dataset = BonzDataset(train_data.iloc[train_idx])\n",
    "    val_dataset = BonzDataset(train_data.iloc[val_idx])\n",
    "    \n",
    "    # Training Phase\n",
    "    model.train()\n",
    "    model.load_state_dict(origin_state_dict) #Load origin state dict\n",
    "    loss_fn = nn.CrossEntropyLoss()\n",
    "    optimizer = torch.optim.AdamW(model.parameters(), lr=2e-5)\n",
    "    \n",
    "    for e in tqdm.notebook.trange(20):\n",
    "        s = time.time()\n",
    "        total_loss = 0\n",
    "        predicts = []\n",
    "        y_true = []\n",
    "        data_loader = DataLoader(train_dataset, batch_size=4, shuffle=True)\n",
    "        for img_tensors, features, one_hot_label, label in data_loader:\n",
    "            img_tensors = [ts.to(DEVICE) for ts in img_tensors]\n",
    "            features = features.to(DEVICE)\n",
    "            one_hot_label = one_hot_label.to(DEVICE)\n",
    "            label = label.to(DEVICE)\n",
    "\n",
    "            optimizer.zero_grad()\n",
    "            predict = model(img_tensors, features)\n",
    "            loss = loss_fn(predict, label)\n",
    "            loss.backward()\n",
    "            optimizer.step()\n",
    "\n",
    "            total_loss += loss.item()\n",
    "            predict = predict.detach().cpu()\n",
    "            predict = torch.argmax(predict, 1)\n",
    "            predicts.extend(predict.tolist())\n",
    "            y_true.extend(label.detach().cpu().tolist())\n",
    "        \n",
    "    acc_score = accuracy_score(y_true, predicts)\n",
    "    f1_scr = f1_score(y_true, predicts, average='micro')\n",
    "\n",
    "    print(f'Loss = {total_loss:.2f},\\t Train_acc={acc_score:.2f},\\t Train_f1={f1_scr:.2f},\\t Time = {time.time()-s:.2f}')\n",
    "    \n",
    "    # Validation Phase\n",
    "    model.eval()\n",
    "    val_data_loader = DataLoader(val_dataset)\n",
    "    for img_tensors, features, one_hot_label, label in val_data_loader:\n",
    "        img_tensors = [ts.to(DEVICE) for ts in img_tensors]\n",
    "        features = features.to(DEVICE)\n",
    "        one_hot_label = one_hot_label.to(DEVICE)\n",
    "        label = label.to(DEVICE)\n",
    "\n",
    "        with torch.no_grad():\n",
    "            predict = model(img_tensors, features)\n",
    "        predict = predict.detach().cpu()\n",
    "        last_predict_matrix.extend(predict)\n",
    "        predict = torch.argmax(predict, 1)\n",
    "        last_predicts.extend(predict.tolist())\n",
    "        \n",
    "print(classification_report(train_data.labels.values, last_predicts))"
   ]
  },
  {
   "cell_type": "markdown",
   "metadata": {},
   "source": [
    "# Leave One Out CV"
   ]
  },
  {
   "cell_type": "code",
   "execution_count": 6,
   "metadata": {
    "collapsed": true,
    "jupyter": {
     "outputs_hidden": true
    }
   },
   "outputs": [
    {
     "data": {
      "application/vnd.jupyter.widget-view+json": {
       "model_id": "825b3ddb47ff4a8da3254f9a6b6f59ea",
       "version_major": 2,
       "version_minor": 0
      },
      "text/plain": [
       "HBox(children=(FloatProgress(value=0.0, max=20.0), HTML(value='')))"
      ]
     },
     "metadata": {},
     "output_type": "display_data"
    },
    {
     "name": "stdout",
     "output_type": "stream",
     "text": [
      "\n",
      "LOOCV = 111,\t Loss = 12.01,\t Train_acc=0.92,\t Train_f1=0.92,\t Time = 20.95\n"
     ]
    },
    {
     "data": {
      "application/vnd.jupyter.widget-view+json": {
       "model_id": "a5ec2068f1e84d8fb82a35a50fb34c1a",
       "version_major": 2,
       "version_minor": 0
      },
      "text/plain": [
       "HBox(children=(FloatProgress(value=0.0, max=20.0), HTML(value='')))"
      ]
     },
     "metadata": {},
     "output_type": "display_data"
    },
    {
     "name": "stdout",
     "output_type": "stream",
     "text": [
      "\n",
      "LOOCV = 112,\t Loss = 7.47,\t Train_acc=0.96,\t Train_f1=0.96,\t Time = 20.94\n"
     ]
    },
    {
     "data": {
      "application/vnd.jupyter.widget-view+json": {
       "model_id": "409331a7665447c7987b1c6c1084d9a7",
       "version_major": 2,
       "version_minor": 0
      },
      "text/plain": [
       "HBox(children=(FloatProgress(value=0.0, max=20.0), HTML(value='')))"
      ]
     },
     "metadata": {},
     "output_type": "display_data"
    },
    {
     "name": "stdout",
     "output_type": "stream",
     "text": [
      "\n",
      "LOOCV = 113,\t Loss = 6.88,\t Train_acc=0.95,\t Train_f1=0.95,\t Time = 21.13\n"
     ]
    },
    {
     "data": {
      "application/vnd.jupyter.widget-view+json": {
       "model_id": "73656f5fb507418d908499b91b3700ae",
       "version_major": 2,
       "version_minor": 0
      },
      "text/plain": [
       "HBox(children=(FloatProgress(value=0.0, max=20.0), HTML(value='')))"
      ]
     },
     "metadata": {},
     "output_type": "display_data"
    },
    {
     "name": "stdout",
     "output_type": "stream",
     "text": [
      "\n",
      "LOOCV = 114,\t Loss = 9.66,\t Train_acc=0.95,\t Train_f1=0.95,\t Time = 21.08\n"
     ]
    },
    {
     "data": {
      "application/vnd.jupyter.widget-view+json": {
       "model_id": "e23da2db1fdd4b1d94702015cbb564b5",
       "version_major": 2,
       "version_minor": 0
      },
      "text/plain": [
       "HBox(children=(FloatProgress(value=0.0, max=20.0), HTML(value='')))"
      ]
     },
     "metadata": {},
     "output_type": "display_data"
    },
    {
     "name": "stdout",
     "output_type": "stream",
     "text": [
      "\n",
      "LOOCV = 115,\t Loss = 6.68,\t Train_acc=0.97,\t Train_f1=0.97,\t Time = 21.34\n"
     ]
    },
    {
     "data": {
      "application/vnd.jupyter.widget-view+json": {
       "model_id": "2f6329b97a454378be5cbb83611f3d1b",
       "version_major": 2,
       "version_minor": 0
      },
      "text/plain": [
       "HBox(children=(FloatProgress(value=0.0, max=20.0), HTML(value='')))"
      ]
     },
     "metadata": {},
     "output_type": "display_data"
    },
    {
     "name": "stdout",
     "output_type": "stream",
     "text": [
      "\n",
      "LOOCV = 116,\t Loss = 8.46,\t Train_acc=0.93,\t Train_f1=0.93,\t Time = 21.08\n"
     ]
    },
    {
     "data": {
      "application/vnd.jupyter.widget-view+json": {
       "model_id": "dce4ce5a4161441fb87a87dc78a25534",
       "version_major": 2,
       "version_minor": 0
      },
      "text/plain": [
       "HBox(children=(FloatProgress(value=0.0, max=20.0), HTML(value='')))"
      ]
     },
     "metadata": {},
     "output_type": "display_data"
    },
    {
     "name": "stdout",
     "output_type": "stream",
     "text": [
      "\n",
      "LOOCV = 117,\t Loss = 5.75,\t Train_acc=0.96,\t Train_f1=0.96,\t Time = 21.12\n"
     ]
    },
    {
     "data": {
      "application/vnd.jupyter.widget-view+json": {
       "model_id": "cb6d197b295d4a668d50b92d565b9350",
       "version_major": 2,
       "version_minor": 0
      },
      "text/plain": [
       "HBox(children=(FloatProgress(value=0.0, max=20.0), HTML(value='')))"
      ]
     },
     "metadata": {},
     "output_type": "display_data"
    },
    {
     "name": "stdout",
     "output_type": "stream",
     "text": [
      "\n",
      "LOOCV = 118,\t Loss = 7.09,\t Train_acc=0.96,\t Train_f1=0.96,\t Time = 20.88\n"
     ]
    },
    {
     "data": {
      "application/vnd.jupyter.widget-view+json": {
       "model_id": "ec01d5c9ca1b4bb488dc4a8dec44de3c",
       "version_major": 2,
       "version_minor": 0
      },
      "text/plain": [
       "HBox(children=(FloatProgress(value=0.0, max=20.0), HTML(value='')))"
      ]
     },
     "metadata": {},
     "output_type": "display_data"
    },
    {
     "name": "stdout",
     "output_type": "stream",
     "text": [
      "\n",
      "LOOCV = 119,\t Loss = 5.51,\t Train_acc=0.96,\t Train_f1=0.96,\t Time = 22.91\n"
     ]
    },
    {
     "data": {
      "application/vnd.jupyter.widget-view+json": {
       "model_id": "1005701019394b57b5280075639cf2dd",
       "version_major": 2,
       "version_minor": 0
      },
      "text/plain": [
       "HBox(children=(FloatProgress(value=0.0, max=20.0), HTML(value='')))"
      ]
     },
     "metadata": {},
     "output_type": "display_data"
    },
    {
     "name": "stdout",
     "output_type": "stream",
     "text": [
      "\n",
      "LOOCV = 120,\t Loss = 5.18,\t Train_acc=0.97,\t Train_f1=0.97,\t Time = 21.59\n"
     ]
    },
    {
     "data": {
      "application/vnd.jupyter.widget-view+json": {
       "model_id": "4133cd77e5174a9ca896cf871d7485df",
       "version_major": 2,
       "version_minor": 0
      },
      "text/plain": [
       "HBox(children=(FloatProgress(value=0.0, max=20.0), HTML(value='')))"
      ]
     },
     "metadata": {},
     "output_type": "display_data"
    },
    {
     "name": "stdout",
     "output_type": "stream",
     "text": [
      "\n",
      "LOOCV = 121,\t Loss = 6.34,\t Train_acc=0.97,\t Train_f1=0.97,\t Time = 21.23\n"
     ]
    },
    {
     "data": {
      "application/vnd.jupyter.widget-view+json": {
       "model_id": "24f03e9d7e8a4462b07f879035d3621b",
       "version_major": 2,
       "version_minor": 0
      },
      "text/plain": [
       "HBox(children=(FloatProgress(value=0.0, max=20.0), HTML(value='')))"
      ]
     },
     "metadata": {},
     "output_type": "display_data"
    },
    {
     "name": "stdout",
     "output_type": "stream",
     "text": [
      "\n",
      "LOOCV = 122,\t Loss = 10.45,\t Train_acc=0.93,\t Train_f1=0.93,\t Time = 21.06\n"
     ]
    },
    {
     "data": {
      "application/vnd.jupyter.widget-view+json": {
       "model_id": "0edf78fe812c45f2baafa04641a7b7fa",
       "version_major": 2,
       "version_minor": 0
      },
      "text/plain": [
       "HBox(children=(FloatProgress(value=0.0, max=20.0), HTML(value='')))"
      ]
     },
     "metadata": {},
     "output_type": "display_data"
    },
    {
     "name": "stdout",
     "output_type": "stream",
     "text": [
      "\n",
      "LOOCV = 123,\t Loss = 7.28,\t Train_acc=0.96,\t Train_f1=0.96,\t Time = 22.92\n"
     ]
    },
    {
     "data": {
      "application/vnd.jupyter.widget-view+json": {
       "model_id": "1256a2189cb6490bbdfb97711c0a3292",
       "version_major": 2,
       "version_minor": 0
      },
      "text/plain": [
       "HBox(children=(FloatProgress(value=0.0, max=20.0), HTML(value='')))"
      ]
     },
     "metadata": {},
     "output_type": "display_data"
    },
    {
     "name": "stdout",
     "output_type": "stream",
     "text": [
      "\n",
      "LOOCV = 124,\t Loss = 6.24,\t Train_acc=0.97,\t Train_f1=0.97,\t Time = 20.80\n"
     ]
    },
    {
     "data": {
      "application/vnd.jupyter.widget-view+json": {
       "model_id": "84f708842efe45398118ae65508e087d",
       "version_major": 2,
       "version_minor": 0
      },
      "text/plain": [
       "HBox(children=(FloatProgress(value=0.0, max=20.0), HTML(value='')))"
      ]
     },
     "metadata": {},
     "output_type": "display_data"
    },
    {
     "name": "stdout",
     "output_type": "stream",
     "text": [
      "\n",
      "LOOCV = 125,\t Loss = 7.93,\t Train_acc=0.95,\t Train_f1=0.95,\t Time = 20.99\n"
     ]
    },
    {
     "data": {
      "application/vnd.jupyter.widget-view+json": {
       "model_id": "37156eb0c40f4ffa84a15be46b73d711",
       "version_major": 2,
       "version_minor": 0
      },
      "text/plain": [
       "HBox(children=(FloatProgress(value=0.0, max=20.0), HTML(value='')))"
      ]
     },
     "metadata": {},
     "output_type": "display_data"
    },
    {
     "name": "stdout",
     "output_type": "stream",
     "text": [
      "\n",
      "LOOCV = 126,\t Loss = 10.94,\t Train_acc=0.94,\t Train_f1=0.94,\t Time = 21.14\n"
     ]
    },
    {
     "data": {
      "application/vnd.jupyter.widget-view+json": {
       "model_id": "c7bb8e3d0cec47af8674d0e702bd9d33",
       "version_major": 2,
       "version_minor": 0
      },
      "text/plain": [
       "HBox(children=(FloatProgress(value=0.0, max=20.0), HTML(value='')))"
      ]
     },
     "metadata": {},
     "output_type": "display_data"
    },
    {
     "name": "stdout",
     "output_type": "stream",
     "text": [
      "\n",
      "LOOCV = 127,\t Loss = 9.23,\t Train_acc=0.94,\t Train_f1=0.94,\t Time = 21.37\n"
     ]
    },
    {
     "data": {
      "application/vnd.jupyter.widget-view+json": {
       "model_id": "1774adc164b34dad8f5b2e45e9d6620e",
       "version_major": 2,
       "version_minor": 0
      },
      "text/plain": [
       "HBox(children=(FloatProgress(value=0.0, max=20.0), HTML(value='')))"
      ]
     },
     "metadata": {},
     "output_type": "display_data"
    },
    {
     "name": "stdout",
     "output_type": "stream",
     "text": [
      "\n",
      "LOOCV = 128,\t Loss = 2.90,\t Train_acc=0.99,\t Train_f1=0.99,\t Time = 20.83\n"
     ]
    },
    {
     "data": {
      "application/vnd.jupyter.widget-view+json": {
       "model_id": "49c2603bc07e4dccaed276aa1049f273",
       "version_major": 2,
       "version_minor": 0
      },
      "text/plain": [
       "HBox(children=(FloatProgress(value=0.0, max=20.0), HTML(value='')))"
      ]
     },
     "metadata": {},
     "output_type": "display_data"
    },
    {
     "name": "stdout",
     "output_type": "stream",
     "text": [
      "\n",
      "LOOCV = 129,\t Loss = 10.96,\t Train_acc=0.96,\t Train_f1=0.96,\t Time = 21.00\n"
     ]
    },
    {
     "data": {
      "application/vnd.jupyter.widget-view+json": {
       "model_id": "268437681eb441caa2296276a227dcaf",
       "version_major": 2,
       "version_minor": 0
      },
      "text/plain": [
       "HBox(children=(FloatProgress(value=0.0, max=20.0), HTML(value='')))"
      ]
     },
     "metadata": {},
     "output_type": "display_data"
    },
    {
     "name": "stdout",
     "output_type": "stream",
     "text": [
      "\n",
      "LOOCV = 130,\t Loss = 8.87,\t Train_acc=0.96,\t Train_f1=0.96,\t Time = 21.10\n"
     ]
    },
    {
     "data": {
      "application/vnd.jupyter.widget-view+json": {
       "model_id": "90471202814242c9a56de9d939341ece",
       "version_major": 2,
       "version_minor": 0
      },
      "text/plain": [
       "HBox(children=(FloatProgress(value=0.0, max=20.0), HTML(value='')))"
      ]
     },
     "metadata": {},
     "output_type": "display_data"
    },
    {
     "name": "stdout",
     "output_type": "stream",
     "text": [
      "\n",
      "LOOCV = 131,\t Loss = 7.01,\t Train_acc=0.97,\t Train_f1=0.97,\t Time = 21.14\n"
     ]
    },
    {
     "data": {
      "application/vnd.jupyter.widget-view+json": {
       "model_id": "71b243761288475a94a980d4df18cc24",
       "version_major": 2,
       "version_minor": 0
      },
      "text/plain": [
       "HBox(children=(FloatProgress(value=0.0, max=20.0), HTML(value='')))"
      ]
     },
     "metadata": {},
     "output_type": "display_data"
    },
    {
     "name": "stdout",
     "output_type": "stream",
     "text": [
      "\n",
      "LOOCV = 132,\t Loss = 3.70,\t Train_acc=0.98,\t Train_f1=0.98,\t Time = 21.25\n"
     ]
    },
    {
     "data": {
      "application/vnd.jupyter.widget-view+json": {
       "model_id": "04298c081c354e1c8380c5212d799ef0",
       "version_major": 2,
       "version_minor": 0
      },
      "text/plain": [
       "HBox(children=(FloatProgress(value=0.0, max=20.0), HTML(value='')))"
      ]
     },
     "metadata": {},
     "output_type": "display_data"
    },
    {
     "name": "stdout",
     "output_type": "stream",
     "text": [
      "\n",
      "LOOCV = 133,\t Loss = 6.16,\t Train_acc=0.97,\t Train_f1=0.97,\t Time = 21.08\n"
     ]
    },
    {
     "data": {
      "application/vnd.jupyter.widget-view+json": {
       "model_id": "c628df09d748481d81bfcf4ff5307378",
       "version_major": 2,
       "version_minor": 0
      },
      "text/plain": [
       "HBox(children=(FloatProgress(value=0.0, max=20.0), HTML(value='')))"
      ]
     },
     "metadata": {},
     "output_type": "display_data"
    },
    {
     "name": "stdout",
     "output_type": "stream",
     "text": [
      "\n",
      "LOOCV = 134,\t Loss = 5.45,\t Train_acc=0.97,\t Train_f1=0.97,\t Time = 20.89\n"
     ]
    },
    {
     "data": {
      "application/vnd.jupyter.widget-view+json": {
       "model_id": "9c54a87335e041d9b7be9077d4896e31",
       "version_major": 2,
       "version_minor": 0
      },
      "text/plain": [
       "HBox(children=(FloatProgress(value=0.0, max=20.0), HTML(value='')))"
      ]
     },
     "metadata": {},
     "output_type": "display_data"
    },
    {
     "name": "stdout",
     "output_type": "stream",
     "text": [
      "\n",
      "LOOCV = 135,\t Loss = 8.34,\t Train_acc=0.94,\t Train_f1=0.94,\t Time = 20.75\n"
     ]
    },
    {
     "data": {
      "application/vnd.jupyter.widget-view+json": {
       "model_id": "64d080ecf57542389a9531f0a707c910",
       "version_major": 2,
       "version_minor": 0
      },
      "text/plain": [
       "HBox(children=(FloatProgress(value=0.0, max=20.0), HTML(value='')))"
      ]
     },
     "metadata": {},
     "output_type": "display_data"
    },
    {
     "name": "stdout",
     "output_type": "stream",
     "text": [
      "\n",
      "LOOCV = 136,\t Loss = 6.41,\t Train_acc=0.96,\t Train_f1=0.96,\t Time = 21.47\n"
     ]
    },
    {
     "data": {
      "application/vnd.jupyter.widget-view+json": {
       "model_id": "43e710ba770a419bb2739983acac8b8b",
       "version_major": 2,
       "version_minor": 0
      },
      "text/plain": [
       "HBox(children=(FloatProgress(value=0.0, max=20.0), HTML(value='')))"
      ]
     },
     "metadata": {},
     "output_type": "display_data"
    },
    {
     "name": "stdout",
     "output_type": "stream",
     "text": [
      "\n",
      "LOOCV = 137,\t Loss = 10.10,\t Train_acc=0.93,\t Train_f1=0.93,\t Time = 21.39\n"
     ]
    },
    {
     "data": {
      "application/vnd.jupyter.widget-view+json": {
       "model_id": "4b7b5691612c4c2f99a3ee6c0363a041",
       "version_major": 2,
       "version_minor": 0
      },
      "text/plain": [
       "HBox(children=(FloatProgress(value=0.0, max=20.0), HTML(value='')))"
      ]
     },
     "metadata": {},
     "output_type": "display_data"
    },
    {
     "name": "stdout",
     "output_type": "stream",
     "text": [
      "\n",
      "LOOCV = 138,\t Loss = 6.07,\t Train_acc=0.98,\t Train_f1=0.98,\t Time = 20.45\n"
     ]
    },
    {
     "data": {
      "application/vnd.jupyter.widget-view+json": {
       "model_id": "2587c234d69143fbb18a1a6be571a71b",
       "version_major": 2,
       "version_minor": 0
      },
      "text/plain": [
       "HBox(children=(FloatProgress(value=0.0, max=20.0), HTML(value='')))"
      ]
     },
     "metadata": {},
     "output_type": "display_data"
    },
    {
     "name": "stdout",
     "output_type": "stream",
     "text": [
      "\n",
      "LOOCV = 139,\t Loss = 6.08,\t Train_acc=0.97,\t Train_f1=0.97,\t Time = 20.94\n"
     ]
    },
    {
     "data": {
      "application/vnd.jupyter.widget-view+json": {
       "model_id": "cf854fc2ecdb4a52be379681ab18d747",
       "version_major": 2,
       "version_minor": 0
      },
      "text/plain": [
       "HBox(children=(FloatProgress(value=0.0, max=20.0), HTML(value='')))"
      ]
     },
     "metadata": {},
     "output_type": "display_data"
    },
    {
     "name": "stdout",
     "output_type": "stream",
     "text": [
      "\n",
      "LOOCV = 140,\t Loss = 13.62,\t Train_acc=0.93,\t Train_f1=0.93,\t Time = 20.92\n"
     ]
    },
    {
     "data": {
      "application/vnd.jupyter.widget-view+json": {
       "model_id": "b04e3ababc314559ae98a4f61649c08c",
       "version_major": 2,
       "version_minor": 0
      },
      "text/plain": [
       "HBox(children=(FloatProgress(value=0.0, max=20.0), HTML(value='')))"
      ]
     },
     "metadata": {},
     "output_type": "display_data"
    },
    {
     "name": "stdout",
     "output_type": "stream",
     "text": [
      "\n",
      "LOOCV = 141,\t Loss = 7.32,\t Train_acc=0.96,\t Train_f1=0.96,\t Time = 20.90\n"
     ]
    },
    {
     "data": {
      "application/vnd.jupyter.widget-view+json": {
       "model_id": "734f5757ac4e470aa15807f07a36eddc",
       "version_major": 2,
       "version_minor": 0
      },
      "text/plain": [
       "HBox(children=(FloatProgress(value=0.0, max=20.0), HTML(value='')))"
      ]
     },
     "metadata": {},
     "output_type": "display_data"
    },
    {
     "name": "stdout",
     "output_type": "stream",
     "text": [
      "\n",
      "LOOCV = 142,\t Loss = 6.87,\t Train_acc=0.96,\t Train_f1=0.96,\t Time = 20.72\n"
     ]
    },
    {
     "data": {
      "application/vnd.jupyter.widget-view+json": {
       "model_id": "d698f575b8594a06be27c4ffc5a1f665",
       "version_major": 2,
       "version_minor": 0
      },
      "text/plain": [
       "HBox(children=(FloatProgress(value=0.0, max=20.0), HTML(value='')))"
      ]
     },
     "metadata": {},
     "output_type": "display_data"
    },
    {
     "name": "stdout",
     "output_type": "stream",
     "text": [
      "\n",
      "LOOCV = 143,\t Loss = 6.11,\t Train_acc=0.96,\t Train_f1=0.96,\t Time = 20.96\n"
     ]
    },
    {
     "data": {
      "application/vnd.jupyter.widget-view+json": {
       "model_id": "a77c6116d8e24aad9625ea58d5d80cce",
       "version_major": 2,
       "version_minor": 0
      },
      "text/plain": [
       "HBox(children=(FloatProgress(value=0.0, max=20.0), HTML(value='')))"
      ]
     },
     "metadata": {},
     "output_type": "display_data"
    },
    {
     "name": "stdout",
     "output_type": "stream",
     "text": [
      "\n",
      "LOOCV = 144,\t Loss = 5.93,\t Train_acc=0.98,\t Train_f1=0.98,\t Time = 21.11\n"
     ]
    },
    {
     "data": {
      "application/vnd.jupyter.widget-view+json": {
       "model_id": "6a37344023c74d2cb073ca67230577cd",
       "version_major": 2,
       "version_minor": 0
      },
      "text/plain": [
       "HBox(children=(FloatProgress(value=0.0, max=20.0), HTML(value='')))"
      ]
     },
     "metadata": {},
     "output_type": "display_data"
    },
    {
     "name": "stdout",
     "output_type": "stream",
     "text": [
      "\n",
      "LOOCV = 145,\t Loss = 6.51,\t Train_acc=0.96,\t Train_f1=0.96,\t Time = 20.97\n"
     ]
    },
    {
     "data": {
      "application/vnd.jupyter.widget-view+json": {
       "model_id": "6701afa9fe724f26bd22581473026b47",
       "version_major": 2,
       "version_minor": 0
      },
      "text/plain": [
       "HBox(children=(FloatProgress(value=0.0, max=20.0), HTML(value='')))"
      ]
     },
     "metadata": {},
     "output_type": "display_data"
    },
    {
     "name": "stdout",
     "output_type": "stream",
     "text": [
      "\n",
      "LOOCV = 146,\t Loss = 3.56,\t Train_acc=0.99,\t Train_f1=0.99,\t Time = 20.74\n"
     ]
    },
    {
     "data": {
      "application/vnd.jupyter.widget-view+json": {
       "model_id": "c27dfccb4948434ebd9b9d74b3180dd2",
       "version_major": 2,
       "version_minor": 0
      },
      "text/plain": [
       "HBox(children=(FloatProgress(value=0.0, max=20.0), HTML(value='')))"
      ]
     },
     "metadata": {},
     "output_type": "display_data"
    },
    {
     "name": "stdout",
     "output_type": "stream",
     "text": [
      "\n",
      "LOOCV = 147,\t Loss = 6.79,\t Train_acc=0.96,\t Train_f1=0.96,\t Time = 20.44\n"
     ]
    },
    {
     "data": {
      "application/vnd.jupyter.widget-view+json": {
       "model_id": "7813c8bb65fc47079bdc4026af4d814d",
       "version_major": 2,
       "version_minor": 0
      },
      "text/plain": [
       "HBox(children=(FloatProgress(value=0.0, max=20.0), HTML(value='')))"
      ]
     },
     "metadata": {},
     "output_type": "display_data"
    },
    {
     "name": "stdout",
     "output_type": "stream",
     "text": [
      "\n",
      "LOOCV = 148,\t Loss = 8.10,\t Train_acc=0.95,\t Train_f1=0.95,\t Time = 20.76\n"
     ]
    },
    {
     "data": {
      "application/vnd.jupyter.widget-view+json": {
       "model_id": "9ee2d5809586418b8978061a442906d5",
       "version_major": 2,
       "version_minor": 0
      },
      "text/plain": [
       "HBox(children=(FloatProgress(value=0.0, max=20.0), HTML(value='')))"
      ]
     },
     "metadata": {},
     "output_type": "display_data"
    },
    {
     "name": "stdout",
     "output_type": "stream",
     "text": [
      "\n",
      "LOOCV = 149,\t Loss = 7.17,\t Train_acc=0.96,\t Train_f1=0.96,\t Time = 21.18\n"
     ]
    },
    {
     "data": {
      "application/vnd.jupyter.widget-view+json": {
       "model_id": "b1248e3449e3436e9070c269eed4dfde",
       "version_major": 2,
       "version_minor": 0
      },
      "text/plain": [
       "HBox(children=(FloatProgress(value=0.0, max=20.0), HTML(value='')))"
      ]
     },
     "metadata": {},
     "output_type": "display_data"
    },
    {
     "name": "stdout",
     "output_type": "stream",
     "text": [
      "\n",
      "LOOCV = 150,\t Loss = 6.93,\t Train_acc=0.96,\t Train_f1=0.96,\t Time = 21.16\n"
     ]
    },
    {
     "data": {
      "application/vnd.jupyter.widget-view+json": {
       "model_id": "b94063b975554b49b8cd82e44cb8ad03",
       "version_major": 2,
       "version_minor": 0
      },
      "text/plain": [
       "HBox(children=(FloatProgress(value=0.0, max=20.0), HTML(value='')))"
      ]
     },
     "metadata": {},
     "output_type": "display_data"
    },
    {
     "name": "stdout",
     "output_type": "stream",
     "text": [
      "\n",
      "LOOCV = 151,\t Loss = 6.03,\t Train_acc=0.96,\t Train_f1=0.96,\t Time = 20.88\n"
     ]
    },
    {
     "data": {
      "application/vnd.jupyter.widget-view+json": {
       "model_id": "a02f9fef2b524bfda03df7f6232f2dd8",
       "version_major": 2,
       "version_minor": 0
      },
      "text/plain": [
       "HBox(children=(FloatProgress(value=0.0, max=20.0), HTML(value='')))"
      ]
     },
     "metadata": {},
     "output_type": "display_data"
    },
    {
     "name": "stdout",
     "output_type": "stream",
     "text": [
      "\n",
      "LOOCV = 152,\t Loss = 9.53,\t Train_acc=0.95,\t Train_f1=0.95,\t Time = 21.14\n"
     ]
    },
    {
     "data": {
      "application/vnd.jupyter.widget-view+json": {
       "model_id": "f0b53184e9394387a9eb022cc4ca7c9e",
       "version_major": 2,
       "version_minor": 0
      },
      "text/plain": [
       "HBox(children=(FloatProgress(value=0.0, max=20.0), HTML(value='')))"
      ]
     },
     "metadata": {},
     "output_type": "display_data"
    },
    {
     "name": "stdout",
     "output_type": "stream",
     "text": [
      "\n",
      "LOOCV = 153,\t Loss = 5.16,\t Train_acc=0.98,\t Train_f1=0.98,\t Time = 20.80\n"
     ]
    },
    {
     "data": {
      "application/vnd.jupyter.widget-view+json": {
       "model_id": "239510f5924f4cfeb4d182b961c3db23",
       "version_major": 2,
       "version_minor": 0
      },
      "text/plain": [
       "HBox(children=(FloatProgress(value=0.0, max=20.0), HTML(value='')))"
      ]
     },
     "metadata": {},
     "output_type": "display_data"
    },
    {
     "name": "stdout",
     "output_type": "stream",
     "text": [
      "\n",
      "LOOCV = 154,\t Loss = 12.80,\t Train_acc=0.94,\t Train_f1=0.94,\t Time = 20.86\n"
     ]
    },
    {
     "data": {
      "application/vnd.jupyter.widget-view+json": {
       "model_id": "54400da765994c3383b19a79b53e7f6c",
       "version_major": 2,
       "version_minor": 0
      },
      "text/plain": [
       "HBox(children=(FloatProgress(value=0.0, max=20.0), HTML(value='')))"
      ]
     },
     "metadata": {},
     "output_type": "display_data"
    },
    {
     "name": "stdout",
     "output_type": "stream",
     "text": [
      "\n",
      "LOOCV = 155,\t Loss = 12.64,\t Train_acc=0.93,\t Train_f1=0.93,\t Time = 21.04\n"
     ]
    },
    {
     "data": {
      "application/vnd.jupyter.widget-view+json": {
       "model_id": "979766ba722d4492a9ce6055a38b6bab",
       "version_major": 2,
       "version_minor": 0
      },
      "text/plain": [
       "HBox(children=(FloatProgress(value=0.0, max=20.0), HTML(value='')))"
      ]
     },
     "metadata": {},
     "output_type": "display_data"
    },
    {
     "name": "stdout",
     "output_type": "stream",
     "text": [
      "\n",
      "LOOCV = 156,\t Loss = 11.71,\t Train_acc=0.93,\t Train_f1=0.93,\t Time = 21.90\n"
     ]
    },
    {
     "data": {
      "application/vnd.jupyter.widget-view+json": {
       "model_id": "f4ebb3b1e9a24d489b102aa5a922398c",
       "version_major": 2,
       "version_minor": 0
      },
      "text/plain": [
       "HBox(children=(FloatProgress(value=0.0, max=20.0), HTML(value='')))"
      ]
     },
     "metadata": {},
     "output_type": "display_data"
    },
    {
     "name": "stdout",
     "output_type": "stream",
     "text": [
      "\n",
      "LOOCV = 157,\t Loss = 11.29,\t Train_acc=0.92,\t Train_f1=0.92,\t Time = 20.92\n"
     ]
    },
    {
     "data": {
      "application/vnd.jupyter.widget-view+json": {
       "model_id": "bc6a4254fca045628d0d209c2b3a0c32",
       "version_major": 2,
       "version_minor": 0
      },
      "text/plain": [
       "HBox(children=(FloatProgress(value=0.0, max=20.0), HTML(value='')))"
      ]
     },
     "metadata": {},
     "output_type": "display_data"
    },
    {
     "name": "stdout",
     "output_type": "stream",
     "text": [
      "\n",
      "LOOCV = 158,\t Loss = 4.85,\t Train_acc=0.98,\t Train_f1=0.98,\t Time = 20.73\n"
     ]
    },
    {
     "data": {
      "application/vnd.jupyter.widget-view+json": {
       "model_id": "932d6c366c33443695da821046e6d59c",
       "version_major": 2,
       "version_minor": 0
      },
      "text/plain": [
       "HBox(children=(FloatProgress(value=0.0, max=20.0), HTML(value='')))"
      ]
     },
     "metadata": {},
     "output_type": "display_data"
    },
    {
     "name": "stdout",
     "output_type": "stream",
     "text": [
      "\n",
      "LOOCV = 159,\t Loss = 4.87,\t Train_acc=0.98,\t Train_f1=0.98,\t Time = 20.93\n"
     ]
    },
    {
     "data": {
      "application/vnd.jupyter.widget-view+json": {
       "model_id": "84872a8c35b94dc0a86b3ae802c3eb48",
       "version_major": 2,
       "version_minor": 0
      },
      "text/plain": [
       "HBox(children=(FloatProgress(value=0.0, max=20.0), HTML(value='')))"
      ]
     },
     "metadata": {},
     "output_type": "display_data"
    },
    {
     "name": "stdout",
     "output_type": "stream",
     "text": [
      "\n",
      "LOOCV = 160,\t Loss = 8.14,\t Train_acc=0.94,\t Train_f1=0.94,\t Time = 21.11\n"
     ]
    },
    {
     "data": {
      "application/vnd.jupyter.widget-view+json": {
       "model_id": "483b24b5e4bf4953b17626badf39a530",
       "version_major": 2,
       "version_minor": 0
      },
      "text/plain": [
       "HBox(children=(FloatProgress(value=0.0, max=20.0), HTML(value='')))"
      ]
     },
     "metadata": {},
     "output_type": "display_data"
    },
    {
     "name": "stdout",
     "output_type": "stream",
     "text": [
      "\n",
      "LOOCV = 161,\t Loss = 4.78,\t Train_acc=0.97,\t Train_f1=0.97,\t Time = 21.38\n"
     ]
    },
    {
     "data": {
      "application/vnd.jupyter.widget-view+json": {
       "model_id": "a8808c9e02964a1b823e5e52d577b8e9",
       "version_major": 2,
       "version_minor": 0
      },
      "text/plain": [
       "HBox(children=(FloatProgress(value=0.0, max=20.0), HTML(value='')))"
      ]
     },
     "metadata": {},
     "output_type": "display_data"
    },
    {
     "name": "stdout",
     "output_type": "stream",
     "text": [
      "\n",
      "LOOCV = 162,\t Loss = 6.83,\t Train_acc=0.96,\t Train_f1=0.96,\t Time = 20.97\n"
     ]
    },
    {
     "data": {
      "application/vnd.jupyter.widget-view+json": {
       "model_id": "fe8f27e832e64d4db610c641c751dcfd",
       "version_major": 2,
       "version_minor": 0
      },
      "text/plain": [
       "HBox(children=(FloatProgress(value=0.0, max=20.0), HTML(value='')))"
      ]
     },
     "metadata": {},
     "output_type": "display_data"
    },
    {
     "name": "stdout",
     "output_type": "stream",
     "text": [
      "\n",
      "LOOCV = 163,\t Loss = 11.96,\t Train_acc=0.94,\t Train_f1=0.94,\t Time = 21.38\n"
     ]
    },
    {
     "data": {
      "application/vnd.jupyter.widget-view+json": {
       "model_id": "c165d39ee5524ca7a20b2297457bb8af",
       "version_major": 2,
       "version_minor": 0
      },
      "text/plain": [
       "HBox(children=(FloatProgress(value=0.0, max=20.0), HTML(value='')))"
      ]
     },
     "metadata": {},
     "output_type": "display_data"
    },
    {
     "name": "stdout",
     "output_type": "stream",
     "text": [
      "\n",
      "LOOCV = 164,\t Loss = 6.34,\t Train_acc=0.97,\t Train_f1=0.97,\t Time = 21.76\n"
     ]
    },
    {
     "data": {
      "application/vnd.jupyter.widget-view+json": {
       "model_id": "27c83fb8b6704b6a91917beaf412d60c",
       "version_major": 2,
       "version_minor": 0
      },
      "text/plain": [
       "HBox(children=(FloatProgress(value=0.0, max=20.0), HTML(value='')))"
      ]
     },
     "metadata": {},
     "output_type": "display_data"
    },
    {
     "name": "stdout",
     "output_type": "stream",
     "text": [
      "\n",
      "LOOCV = 165,\t Loss = 6.01,\t Train_acc=0.98,\t Train_f1=0.98,\t Time = 21.23\n"
     ]
    },
    {
     "data": {
      "application/vnd.jupyter.widget-view+json": {
       "model_id": "a8893bd5574748b58a2e94b0442c1239",
       "version_major": 2,
       "version_minor": 0
      },
      "text/plain": [
       "HBox(children=(FloatProgress(value=0.0, max=20.0), HTML(value='')))"
      ]
     },
     "metadata": {},
     "output_type": "display_data"
    },
    {
     "name": "stdout",
     "output_type": "stream",
     "text": [
      "\n",
      "LOOCV = 166,\t Loss = 8.76,\t Train_acc=0.96,\t Train_f1=0.96,\t Time = 21.18\n"
     ]
    },
    {
     "data": {
      "application/vnd.jupyter.widget-view+json": {
       "model_id": "192052962ed1400c927b81dbfce16e5f",
       "version_major": 2,
       "version_minor": 0
      },
      "text/plain": [
       "HBox(children=(FloatProgress(value=0.0, max=20.0), HTML(value='')))"
      ]
     },
     "metadata": {},
     "output_type": "display_data"
    },
    {
     "name": "stdout",
     "output_type": "stream",
     "text": [
      "\n",
      "LOOCV = 167,\t Loss = 4.56,\t Train_acc=0.99,\t Train_f1=0.99,\t Time = 22.53\n"
     ]
    },
    {
     "data": {
      "application/vnd.jupyter.widget-view+json": {
       "model_id": "1a00ef7c979b4e688e14c8bd4fc42252",
       "version_major": 2,
       "version_minor": 0
      },
      "text/plain": [
       "HBox(children=(FloatProgress(value=0.0, max=20.0), HTML(value='')))"
      ]
     },
     "metadata": {},
     "output_type": "display_data"
    },
    {
     "name": "stdout",
     "output_type": "stream",
     "text": [
      "\n",
      "LOOCV = 168,\t Loss = 3.59,\t Train_acc=0.98,\t Train_f1=0.98,\t Time = 21.30\n"
     ]
    },
    {
     "data": {
      "application/vnd.jupyter.widget-view+json": {
       "model_id": "3e18135bba964e238870054d2526ed95",
       "version_major": 2,
       "version_minor": 0
      },
      "text/plain": [
       "HBox(children=(FloatProgress(value=0.0, max=20.0), HTML(value='')))"
      ]
     },
     "metadata": {},
     "output_type": "display_data"
    },
    {
     "name": "stdout",
     "output_type": "stream",
     "text": [
      "\n",
      "LOOCV = 169,\t Loss = 7.24,\t Train_acc=0.96,\t Train_f1=0.96,\t Time = 21.26\n"
     ]
    },
    {
     "data": {
      "application/vnd.jupyter.widget-view+json": {
       "model_id": "c42fe66d68574f6b9deb8ae40a5c0c74",
       "version_major": 2,
       "version_minor": 0
      },
      "text/plain": [
       "HBox(children=(FloatProgress(value=0.0, max=20.0), HTML(value='')))"
      ]
     },
     "metadata": {},
     "output_type": "display_data"
    },
    {
     "name": "stdout",
     "output_type": "stream",
     "text": [
      "\n",
      "LOOCV = 170,\t Loss = 6.47,\t Train_acc=0.98,\t Train_f1=0.98,\t Time = 22.02\n"
     ]
    },
    {
     "data": {
      "application/vnd.jupyter.widget-view+json": {
       "model_id": "a744a01e515b423cb485b16e87e78408",
       "version_major": 2,
       "version_minor": 0
      },
      "text/plain": [
       "HBox(children=(FloatProgress(value=0.0, max=20.0), HTML(value='')))"
      ]
     },
     "metadata": {},
     "output_type": "display_data"
    },
    {
     "name": "stdout",
     "output_type": "stream",
     "text": [
      "\n",
      "LOOCV = 171,\t Loss = 9.06,\t Train_acc=0.95,\t Train_f1=0.95,\t Time = 22.52\n"
     ]
    },
    {
     "data": {
      "application/vnd.jupyter.widget-view+json": {
       "model_id": "63bf762944394d2fbbf9600d54aedcd6",
       "version_major": 2,
       "version_minor": 0
      },
      "text/plain": [
       "HBox(children=(FloatProgress(value=0.0, max=20.0), HTML(value='')))"
      ]
     },
     "metadata": {},
     "output_type": "display_data"
    },
    {
     "name": "stdout",
     "output_type": "stream",
     "text": [
      "\n",
      "LOOCV = 172,\t Loss = 9.80,\t Train_acc=0.93,\t Train_f1=0.93,\t Time = 22.71\n"
     ]
    },
    {
     "data": {
      "application/vnd.jupyter.widget-view+json": {
       "model_id": "4689cfea468e47bdab3f5f51c2a4aae3",
       "version_major": 2,
       "version_minor": 0
      },
      "text/plain": [
       "HBox(children=(FloatProgress(value=0.0, max=20.0), HTML(value='')))"
      ]
     },
     "metadata": {},
     "output_type": "display_data"
    },
    {
     "name": "stdout",
     "output_type": "stream",
     "text": [
      "\n",
      "LOOCV = 173,\t Loss = 6.93,\t Train_acc=0.98,\t Train_f1=0.98,\t Time = 21.76\n"
     ]
    },
    {
     "data": {
      "application/vnd.jupyter.widget-view+json": {
       "model_id": "6219d8248be2419eb34acfd6275c82ba",
       "version_major": 2,
       "version_minor": 0
      },
      "text/plain": [
       "HBox(children=(FloatProgress(value=0.0, max=20.0), HTML(value='')))"
      ]
     },
     "metadata": {},
     "output_type": "display_data"
    },
    {
     "name": "stdout",
     "output_type": "stream",
     "text": [
      "\n",
      "LOOCV = 174,\t Loss = 9.26,\t Train_acc=0.95,\t Train_f1=0.95,\t Time = 21.63\n"
     ]
    },
    {
     "data": {
      "application/vnd.jupyter.widget-view+json": {
       "model_id": "7f13d70b63ce44f3b6884183afb810dc",
       "version_major": 2,
       "version_minor": 0
      },
      "text/plain": [
       "HBox(children=(FloatProgress(value=0.0, max=20.0), HTML(value='')))"
      ]
     },
     "metadata": {},
     "output_type": "display_data"
    },
    {
     "name": "stdout",
     "output_type": "stream",
     "text": [
      "\n",
      "LOOCV = 175,\t Loss = 5.25,\t Train_acc=0.97,\t Train_f1=0.97,\t Time = 21.89\n"
     ]
    },
    {
     "data": {
      "application/vnd.jupyter.widget-view+json": {
       "model_id": "0b85b20a1e3842d7802046b1bd1c5a3f",
       "version_major": 2,
       "version_minor": 0
      },
      "text/plain": [
       "HBox(children=(FloatProgress(value=0.0, max=20.0), HTML(value='')))"
      ]
     },
     "metadata": {},
     "output_type": "display_data"
    },
    {
     "name": "stdout",
     "output_type": "stream",
     "text": [
      "\n",
      "LOOCV = 176,\t Loss = 6.34,\t Train_acc=0.96,\t Train_f1=0.96,\t Time = 22.03\n"
     ]
    },
    {
     "data": {
      "application/vnd.jupyter.widget-view+json": {
       "model_id": "3eb15e88380648a3b8c1e0d516bd5251",
       "version_major": 2,
       "version_minor": 0
      },
      "text/plain": [
       "HBox(children=(FloatProgress(value=0.0, max=20.0), HTML(value='')))"
      ]
     },
     "metadata": {},
     "output_type": "display_data"
    },
    {
     "name": "stdout",
     "output_type": "stream",
     "text": [
      "\n",
      "LOOCV = 177,\t Loss = 5.49,\t Train_acc=0.97,\t Train_f1=0.97,\t Time = 22.12\n"
     ]
    },
    {
     "data": {
      "application/vnd.jupyter.widget-view+json": {
       "model_id": "ae31706eb791454881425ce3d24d0c00",
       "version_major": 2,
       "version_minor": 0
      },
      "text/plain": [
       "HBox(children=(FloatProgress(value=0.0, max=20.0), HTML(value='')))"
      ]
     },
     "metadata": {},
     "output_type": "display_data"
    },
    {
     "name": "stdout",
     "output_type": "stream",
     "text": [
      "\n",
      "LOOCV = 178,\t Loss = 6.62,\t Train_acc=0.96,\t Train_f1=0.96,\t Time = 21.64\n"
     ]
    },
    {
     "data": {
      "application/vnd.jupyter.widget-view+json": {
       "model_id": "e47c85e15bb746bf8fcf0ef0743ee595",
       "version_major": 2,
       "version_minor": 0
      },
      "text/plain": [
       "HBox(children=(FloatProgress(value=0.0, max=20.0), HTML(value='')))"
      ]
     },
     "metadata": {},
     "output_type": "display_data"
    },
    {
     "name": "stdout",
     "output_type": "stream",
     "text": [
      "\n",
      "LOOCV = 179,\t Loss = 5.53,\t Train_acc=0.96,\t Train_f1=0.96,\t Time = 21.83\n"
     ]
    },
    {
     "data": {
      "application/vnd.jupyter.widget-view+json": {
       "model_id": "ed254c1a112644f08c06751cb2bf5de2",
       "version_major": 2,
       "version_minor": 0
      },
      "text/plain": [
       "HBox(children=(FloatProgress(value=0.0, max=20.0), HTML(value='')))"
      ]
     },
     "metadata": {},
     "output_type": "display_data"
    },
    {
     "name": "stdout",
     "output_type": "stream",
     "text": [
      "\n",
      "LOOCV = 180,\t Loss = 5.33,\t Train_acc=0.96,\t Train_f1=0.96,\t Time = 21.24\n"
     ]
    },
    {
     "data": {
      "application/vnd.jupyter.widget-view+json": {
       "model_id": "f0084291abe3432fa5befc1531f4000d",
       "version_major": 2,
       "version_minor": 0
      },
      "text/plain": [
       "HBox(children=(FloatProgress(value=0.0, max=20.0), HTML(value='')))"
      ]
     },
     "metadata": {},
     "output_type": "display_data"
    },
    {
     "name": "stdout",
     "output_type": "stream",
     "text": [
      "\n",
      "LOOCV = 181,\t Loss = 6.41,\t Train_acc=0.97,\t Train_f1=0.97,\t Time = 22.36\n"
     ]
    },
    {
     "data": {
      "application/vnd.jupyter.widget-view+json": {
       "model_id": "e4350745275d416bbca6e63c47675f02",
       "version_major": 2,
       "version_minor": 0
      },
      "text/plain": [
       "HBox(children=(FloatProgress(value=0.0, max=20.0), HTML(value='')))"
      ]
     },
     "metadata": {},
     "output_type": "display_data"
    },
    {
     "name": "stdout",
     "output_type": "stream",
     "text": [
      "\n",
      "LOOCV = 182,\t Loss = 8.52,\t Train_acc=0.94,\t Train_f1=0.94,\t Time = 21.84\n"
     ]
    },
    {
     "data": {
      "application/vnd.jupyter.widget-view+json": {
       "model_id": "aacb02febbab4b0f8d71a0ea4323581f",
       "version_major": 2,
       "version_minor": 0
      },
      "text/plain": [
       "HBox(children=(FloatProgress(value=0.0, max=20.0), HTML(value='')))"
      ]
     },
     "metadata": {},
     "output_type": "display_data"
    },
    {
     "name": "stdout",
     "output_type": "stream",
     "text": [
      "\n",
      "LOOCV = 183,\t Loss = 5.21,\t Train_acc=0.97,\t Train_f1=0.97,\t Time = 21.49\n"
     ]
    },
    {
     "data": {
      "application/vnd.jupyter.widget-view+json": {
       "model_id": "96e6a54320ef40a69dd1d3582bae87e6",
       "version_major": 2,
       "version_minor": 0
      },
      "text/plain": [
       "HBox(children=(FloatProgress(value=0.0, max=20.0), HTML(value='')))"
      ]
     },
     "metadata": {},
     "output_type": "display_data"
    },
    {
     "name": "stdout",
     "output_type": "stream",
     "text": [
      "\n",
      "LOOCV = 184,\t Loss = 9.06,\t Train_acc=0.96,\t Train_f1=0.96,\t Time = 20.75\n"
     ]
    },
    {
     "data": {
      "application/vnd.jupyter.widget-view+json": {
       "model_id": "eb16ca3998b247499f67043df6a47590",
       "version_major": 2,
       "version_minor": 0
      },
      "text/plain": [
       "HBox(children=(FloatProgress(value=0.0, max=20.0), HTML(value='')))"
      ]
     },
     "metadata": {},
     "output_type": "display_data"
    },
    {
     "name": "stdout",
     "output_type": "stream",
     "text": [
      "\n",
      "LOOCV = 185,\t Loss = 5.74,\t Train_acc=0.97,\t Train_f1=0.97,\t Time = 22.51\n"
     ]
    },
    {
     "data": {
      "application/vnd.jupyter.widget-view+json": {
       "model_id": "3d1e2d26784b46f79073e9b9d9eca982",
       "version_major": 2,
       "version_minor": 0
      },
      "text/plain": [
       "HBox(children=(FloatProgress(value=0.0, max=20.0), HTML(value='')))"
      ]
     },
     "metadata": {},
     "output_type": "display_data"
    },
    {
     "name": "stdout",
     "output_type": "stream",
     "text": [
      "\n",
      "LOOCV = 186,\t Loss = 5.02,\t Train_acc=0.97,\t Train_f1=0.97,\t Time = 21.90\n"
     ]
    },
    {
     "data": {
      "application/vnd.jupyter.widget-view+json": {
       "model_id": "ee0a465a835c49889184693defcd39db",
       "version_major": 2,
       "version_minor": 0
      },
      "text/plain": [
       "HBox(children=(FloatProgress(value=0.0, max=20.0), HTML(value='')))"
      ]
     },
     "metadata": {},
     "output_type": "display_data"
    },
    {
     "name": "stdout",
     "output_type": "stream",
     "text": [
      "\n",
      "LOOCV = 187,\t Loss = 15.55,\t Train_acc=0.91,\t Train_f1=0.91,\t Time = 22.95\n"
     ]
    },
    {
     "data": {
      "application/vnd.jupyter.widget-view+json": {
       "model_id": "8b5e331181ec4a2ea4a97c21913d2c48",
       "version_major": 2,
       "version_minor": 0
      },
      "text/plain": [
       "HBox(children=(FloatProgress(value=0.0, max=20.0), HTML(value='')))"
      ]
     },
     "metadata": {},
     "output_type": "display_data"
    },
    {
     "name": "stdout",
     "output_type": "stream",
     "text": [
      "\n",
      "LOOCV = 188,\t Loss = 13.20,\t Train_acc=0.92,\t Train_f1=0.92,\t Time = 21.92\n"
     ]
    },
    {
     "data": {
      "application/vnd.jupyter.widget-view+json": {
       "model_id": "02a65a4650d74b9397c4d8e320d0df28",
       "version_major": 2,
       "version_minor": 0
      },
      "text/plain": [
       "HBox(children=(FloatProgress(value=0.0, max=20.0), HTML(value='')))"
      ]
     },
     "metadata": {},
     "output_type": "display_data"
    },
    {
     "name": "stdout",
     "output_type": "stream",
     "text": [
      "\n",
      "LOOCV = 189,\t Loss = 16.26,\t Train_acc=0.90,\t Train_f1=0.90,\t Time = 21.42\n"
     ]
    },
    {
     "data": {
      "application/vnd.jupyter.widget-view+json": {
       "model_id": "06d7574c5f29409596e6f809c2a20740",
       "version_major": 2,
       "version_minor": 0
      },
      "text/plain": [
       "HBox(children=(FloatProgress(value=0.0, max=20.0), HTML(value='')))"
      ]
     },
     "metadata": {},
     "output_type": "display_data"
    },
    {
     "name": "stdout",
     "output_type": "stream",
     "text": [
      "\n",
      "LOOCV = 190,\t Loss = 9.29,\t Train_acc=0.93,\t Train_f1=0.93,\t Time = 22.51\n"
     ]
    },
    {
     "data": {
      "application/vnd.jupyter.widget-view+json": {
       "model_id": "7a6c77fe06fc4c8ea70bcb828fc3ca09",
       "version_major": 2,
       "version_minor": 0
      },
      "text/plain": [
       "HBox(children=(FloatProgress(value=0.0, max=20.0), HTML(value='')))"
      ]
     },
     "metadata": {},
     "output_type": "display_data"
    },
    {
     "name": "stdout",
     "output_type": "stream",
     "text": [
      "\n",
      "LOOCV = 191,\t Loss = 5.90,\t Train_acc=0.98,\t Train_f1=0.98,\t Time = 21.67\n"
     ]
    },
    {
     "data": {
      "application/vnd.jupyter.widget-view+json": {
       "model_id": "85fa2537b1704d399972520250195aa2",
       "version_major": 2,
       "version_minor": 0
      },
      "text/plain": [
       "HBox(children=(FloatProgress(value=0.0, max=20.0), HTML(value='')))"
      ]
     },
     "metadata": {},
     "output_type": "display_data"
    },
    {
     "name": "stdout",
     "output_type": "stream",
     "text": [
      "\n",
      "LOOCV = 192,\t Loss = 7.03,\t Train_acc=0.96,\t Train_f1=0.96,\t Time = 21.50\n"
     ]
    },
    {
     "data": {
      "application/vnd.jupyter.widget-view+json": {
       "model_id": "f216b3bafdcf4c63a79c0a170334f534",
       "version_major": 2,
       "version_minor": 0
      },
      "text/plain": [
       "HBox(children=(FloatProgress(value=0.0, max=20.0), HTML(value='')))"
      ]
     },
     "metadata": {},
     "output_type": "display_data"
    },
    {
     "name": "stdout",
     "output_type": "stream",
     "text": [
      "\n",
      "LOOCV = 193,\t Loss = 5.38,\t Train_acc=0.97,\t Train_f1=0.97,\t Time = 24.45\n"
     ]
    },
    {
     "data": {
      "application/vnd.jupyter.widget-view+json": {
       "model_id": "bafc43b2a88b438dabbe9b19824225b3",
       "version_major": 2,
       "version_minor": 0
      },
      "text/plain": [
       "HBox(children=(FloatProgress(value=0.0, max=20.0), HTML(value='')))"
      ]
     },
     "metadata": {},
     "output_type": "display_data"
    },
    {
     "name": "stdout",
     "output_type": "stream",
     "text": [
      "\n",
      "LOOCV = 194,\t Loss = 5.69,\t Train_acc=0.97,\t Train_f1=0.97,\t Time = 27.83\n"
     ]
    },
    {
     "data": {
      "application/vnd.jupyter.widget-view+json": {
       "model_id": "f5ea4abf482f469f9a9390e530267b77",
       "version_major": 2,
       "version_minor": 0
      },
      "text/plain": [
       "HBox(children=(FloatProgress(value=0.0, max=20.0), HTML(value='')))"
      ]
     },
     "metadata": {},
     "output_type": "display_data"
    },
    {
     "name": "stdout",
     "output_type": "stream",
     "text": [
      "\n",
      "LOOCV = 195,\t Loss = 10.10,\t Train_acc=0.95,\t Train_f1=0.95,\t Time = 26.98\n"
     ]
    },
    {
     "data": {
      "application/vnd.jupyter.widget-view+json": {
       "model_id": "39f3522f5b6a4eac8822e11cd490555c",
       "version_major": 2,
       "version_minor": 0
      },
      "text/plain": [
       "HBox(children=(FloatProgress(value=0.0, max=20.0), HTML(value='')))"
      ]
     },
     "metadata": {},
     "output_type": "display_data"
    },
    {
     "name": "stdout",
     "output_type": "stream",
     "text": [
      "\n",
      "LOOCV = 196,\t Loss = 6.26,\t Train_acc=0.98,\t Train_f1=0.98,\t Time = 27.32\n"
     ]
    },
    {
     "data": {
      "application/vnd.jupyter.widget-view+json": {
       "model_id": "e78d08199ede44959eea0a3ca35b4758",
       "version_major": 2,
       "version_minor": 0
      },
      "text/plain": [
       "HBox(children=(FloatProgress(value=0.0, max=20.0), HTML(value='')))"
      ]
     },
     "metadata": {},
     "output_type": "display_data"
    },
    {
     "name": "stdout",
     "output_type": "stream",
     "text": [
      "\n",
      "LOOCV = 197,\t Loss = 9.96,\t Train_acc=0.94,\t Train_f1=0.94,\t Time = 27.55\n"
     ]
    },
    {
     "data": {
      "application/vnd.jupyter.widget-view+json": {
       "model_id": "9c7766318c874d8c8374aa2d027090ce",
       "version_major": 2,
       "version_minor": 0
      },
      "text/plain": [
       "HBox(children=(FloatProgress(value=0.0, max=20.0), HTML(value='')))"
      ]
     },
     "metadata": {},
     "output_type": "display_data"
    },
    {
     "name": "stdout",
     "output_type": "stream",
     "text": [
      "\n",
      "LOOCV = 198,\t Loss = 8.92,\t Train_acc=0.96,\t Train_f1=0.96,\t Time = 21.92\n"
     ]
    },
    {
     "data": {
      "application/vnd.jupyter.widget-view+json": {
       "model_id": "9f4e09c8613e47639f1e632cd38a8faa",
       "version_major": 2,
       "version_minor": 0
      },
      "text/plain": [
       "HBox(children=(FloatProgress(value=0.0, max=20.0), HTML(value='')))"
      ]
     },
     "metadata": {},
     "output_type": "display_data"
    },
    {
     "name": "stdout",
     "output_type": "stream",
     "text": [
      "\n",
      "LOOCV = 199,\t Loss = 9.37,\t Train_acc=0.95,\t Train_f1=0.95,\t Time = 22.49\n",
      "              precision    recall  f1-score   support\n",
      "\n",
      "           0       0.82      0.90      0.86        10\n",
      "           1       0.38      0.50      0.43        10\n",
      "           2       0.80      0.80      0.80        10\n",
      "           3       0.33      0.20      0.25        10\n",
      "           4       0.56      0.50      0.53        10\n",
      "           5       0.50      0.60      0.55        10\n",
      "           6       0.57      0.40      0.47        10\n",
      "           7       0.89      0.80      0.84        10\n",
      "           8       0.62      0.50      0.56        10\n",
      "           9       0.69      0.90      0.78        10\n",
      "          10       0.50      0.60      0.55        10\n",
      "          11       0.44      0.40      0.42        10\n",
      "          12       0.89      0.80      0.84        10\n",
      "          13       0.11      0.10      0.11        10\n",
      "          14       0.25      0.30      0.27        10\n",
      "          15       0.08      0.10      0.09        10\n",
      "          16       0.73      0.80      0.76        10\n",
      "          17       0.60      0.30      0.40        10\n",
      "          18       0.44      0.40      0.42        10\n",
      "          19       0.57      0.80      0.67        10\n",
      "\n",
      "    accuracy                           0.54       200\n",
      "   macro avg       0.54      0.54      0.53       200\n",
      "weighted avg       0.54      0.54      0.53       200\n",
      "\n"
     ]
    }
   ],
   "source": [
    "# Train with UNFREEZE ResNet\n",
    "model.unfreeze_resnet()\n",
    "\n",
    "model.to(DEVICE)\n",
    "#last_predicts = []\n",
    "#last_predict_matrix = []\n",
    "\n",
    "for epoch in range(111,200):\n",
    "    # Split data leave-one-out\n",
    "    idx = np.arange(200)\n",
    "    idx = np.delete(idx, epoch)\n",
    "    train_dataset = BonzDataset(train_data.iloc[idx])\n",
    "    val_dataset = BonzDataset(train_data.iloc[[epoch]])\n",
    "    \n",
    "    # Training Phase\n",
    "    model.train()\n",
    "    model.load_state_dict(origin_state_dict) #Load origin state dict\n",
    "    loss_fn = nn.CrossEntropyLoss()\n",
    "    optimizer = torch.optim.AdamW(model.parameters(), lr=2e-5)\n",
    "    \n",
    "    for e in tqdm.notebook.trange(20):\n",
    "        s = time.time()\n",
    "        total_loss = 0\n",
    "        predicts = []\n",
    "        y_true = []\n",
    "        data_loader = DataLoader(train_dataset, batch_size=4, shuffle=True)\n",
    "        for img_tensors, features, one_hot_label, label in data_loader:\n",
    "            img_tensors = [ts.to(DEVICE) for ts in img_tensors]\n",
    "            features = features.to(DEVICE)\n",
    "            one_hot_label = one_hot_label.to(DEVICE)\n",
    "            label = label.to(DEVICE)\n",
    "\n",
    "            optimizer.zero_grad()\n",
    "            predict = model(img_tensors, features)\n",
    "            loss = loss_fn(predict, label)\n",
    "            loss.backward()\n",
    "            optimizer.step()\n",
    "\n",
    "            total_loss += loss.item()\n",
    "            predict = predict.detach().cpu()\n",
    "            predict = torch.argmax(predict, 1)\n",
    "            predicts.extend(predict.tolist())\n",
    "            y_true.extend(label.detach().cpu().tolist())\n",
    "        \n",
    "    acc_score = accuracy_score(y_true, predicts)\n",
    "    f1_scr = f1_score(y_true, predicts, average='micro')\n",
    "\n",
    "    print(f'LOOCV = {epoch},\\t Loss = {total_loss:.2f},\\t Train_acc={acc_score:.2f},\\t Train_f1={f1_scr:.2f},\\t Time = {time.time()-s:.2f}')\n",
    "    \n",
    "    # Validation Phase\n",
    "    model.eval()\n",
    "    val_data_loader = DataLoader(val_dataset)\n",
    "    for img_tensors, features, one_hot_label, label in val_data_loader:\n",
    "        img_tensors = [ts.to(DEVICE) for ts in img_tensors]\n",
    "        features = features.to(DEVICE)\n",
    "        one_hot_label = one_hot_label.to(DEVICE)\n",
    "        label = label.to(DEVICE)\n",
    "\n",
    "        with torch.no_grad():\n",
    "            predict = model(img_tensors, features)\n",
    "        predict = predict.detach().cpu()\n",
    "        last_predict_matrix.extend(predict)\n",
    "        predict = torch.argmax(predict, 1)\n",
    "        last_predicts.extend(predict.tolist())\n",
    "        \n",
    "print(classification_report(train_data.labels.values, last_predicts))"
   ]
  },
  {
   "cell_type": "code",
   "execution_count": 17,
   "metadata": {
    "collapsed": true,
    "jupyter": {
     "outputs_hidden": true
    }
   },
   "outputs": [
    {
     "name": "stdout",
     "output_type": "stream",
     "text": [
      "Epoch:  0 \n",
      "--------------------------\n"
     ]
    },
    {
     "data": {
      "application/vnd.jupyter.widget-view+json": {
       "model_id": "5cf855195b8143f9a1efe5ebc6c5a96d",
       "version_major": 2,
       "version_minor": 0
      },
      "text/plain": [
       "HBox(children=(FloatProgress(value=0.0, max=13.0), HTML(value='')))"
      ]
     },
     "metadata": {},
     "output_type": "display_data"
    },
    {
     "name": "stdout",
     "output_type": "stream",
     "text": [
      "\n",
      "Loss =  50.18169403076172\n",
      "Time =  4.078999757766724\n",
      "Accuracy Score:  0.04\n",
      "F1 Score:  0.04\n",
      "___________________________________________\n",
      "Epoch:  1 \n",
      "--------------------------\n"
     ]
    },
    {
     "data": {
      "application/vnd.jupyter.widget-view+json": {
       "model_id": "9d2f8fa9278d470a9d0400891cc18633",
       "version_major": 2,
       "version_minor": 0
      },
      "text/plain": [
       "HBox(children=(FloatProgress(value=0.0, max=13.0), HTML(value='')))"
      ]
     },
     "metadata": {},
     "output_type": "display_data"
    },
    {
     "name": "stdout",
     "output_type": "stream",
     "text": [
      "\n",
      "Loss =  39.51239991188049\n",
      "Time =  4.244995594024658\n",
      "Accuracy Score:  0.065\n",
      "F1 Score:  0.065\n",
      "___________________________________________\n",
      "Epoch:  2 \n",
      "--------------------------\n"
     ]
    },
    {
     "data": {
      "application/vnd.jupyter.widget-view+json": {
       "model_id": "9eb19c27d6fd4ba4a9b72c48eb67fde6",
       "version_major": 2,
       "version_minor": 0
      },
      "text/plain": [
       "HBox(children=(FloatProgress(value=0.0, max=13.0), HTML(value='')))"
      ]
     },
     "metadata": {},
     "output_type": "display_data"
    },
    {
     "name": "stdout",
     "output_type": "stream",
     "text": [
      "\n",
      "Loss =  37.20724558830261\n",
      "Time =  3.983999252319336\n",
      "Accuracy Score:  0.09\n",
      "F1 Score:  0.09\n",
      "___________________________________________\n",
      "Epoch:  3 \n",
      "--------------------------\n"
     ]
    },
    {
     "data": {
      "application/vnd.jupyter.widget-view+json": {
       "model_id": "0f661dfa221d4410a86f38fe2e0eb2f8",
       "version_major": 2,
       "version_minor": 0
      },
      "text/plain": [
       "HBox(children=(FloatProgress(value=0.0, max=13.0), HTML(value='')))"
      ]
     },
     "metadata": {},
     "output_type": "display_data"
    },
    {
     "name": "stdout",
     "output_type": "stream",
     "text": [
      "\n",
      "Loss =  34.04769706726074\n",
      "Time =  4.074998140335083\n",
      "Accuracy Score:  0.125\n",
      "F1 Score:  0.125\n",
      "___________________________________________\n",
      "Epoch:  4 \n",
      "--------------------------\n"
     ]
    },
    {
     "data": {
      "application/vnd.jupyter.widget-view+json": {
       "model_id": "c70d952e9de44c1f9cf91905a1c24439",
       "version_major": 2,
       "version_minor": 0
      },
      "text/plain": [
       "HBox(children=(FloatProgress(value=0.0, max=13.0), HTML(value='')))"
      ]
     },
     "metadata": {},
     "output_type": "display_data"
    },
    {
     "name": "stdout",
     "output_type": "stream",
     "text": [
      "\n",
      "Loss =  31.932181358337402\n",
      "Time =  4.1951024532318115\n",
      "Accuracy Score:  0.185\n",
      "F1 Score:  0.185\n",
      "___________________________________________\n",
      "Epoch:  5 \n",
      "--------------------------\n"
     ]
    },
    {
     "data": {
      "application/vnd.jupyter.widget-view+json": {
       "model_id": "d3b080c686fa4d4e833a32d88a92dff2",
       "version_major": 2,
       "version_minor": 0
      },
      "text/plain": [
       "HBox(children=(FloatProgress(value=0.0, max=13.0), HTML(value='')))"
      ]
     },
     "metadata": {},
     "output_type": "display_data"
    },
    {
     "name": "stdout",
     "output_type": "stream",
     "text": [
      "\n",
      "Loss =  30.395508289337158\n",
      "Time =  3.9939982891082764\n",
      "Accuracy Score:  0.185\n",
      "F1 Score:  0.185\n",
      "___________________________________________\n",
      "Epoch:  6 \n",
      "--------------------------\n"
     ]
    },
    {
     "data": {
      "application/vnd.jupyter.widget-view+json": {
       "model_id": "3ab38ce6d9ea491e92693c4022046d16",
       "version_major": 2,
       "version_minor": 0
      },
      "text/plain": [
       "HBox(children=(FloatProgress(value=0.0, max=13.0), HTML(value='')))"
      ]
     },
     "metadata": {},
     "output_type": "display_data"
    },
    {
     "name": "stdout",
     "output_type": "stream",
     "text": [
      "\n",
      "Loss =  26.694459676742554\n",
      "Time =  4.0289998054504395\n",
      "Accuracy Score:  0.29\n",
      "F1 Score:  0.29\n",
      "___________________________________________\n",
      "Epoch:  7 \n",
      "--------------------------\n"
     ]
    },
    {
     "data": {
      "application/vnd.jupyter.widget-view+json": {
       "model_id": "e47979564776479285b911dd9a05d45f",
       "version_major": 2,
       "version_minor": 0
      },
      "text/plain": [
       "HBox(children=(FloatProgress(value=0.0, max=13.0), HTML(value='')))"
      ]
     },
     "metadata": {},
     "output_type": "display_data"
    },
    {
     "name": "stdout",
     "output_type": "stream",
     "text": [
      "\n",
      "Loss =  24.283324718475342\n",
      "Time =  4.420866250991821\n",
      "Accuracy Score:  0.31\n",
      "F1 Score:  0.31\n",
      "___________________________________________\n",
      "Epoch:  8 \n",
      "--------------------------\n"
     ]
    },
    {
     "data": {
      "application/vnd.jupyter.widget-view+json": {
       "model_id": "d7497a209c7c434995304341ac3bb39f",
       "version_major": 2,
       "version_minor": 0
      },
      "text/plain": [
       "HBox(children=(FloatProgress(value=0.0, max=13.0), HTML(value='')))"
      ]
     },
     "metadata": {},
     "output_type": "display_data"
    },
    {
     "name": "stdout",
     "output_type": "stream",
     "text": [
      "\n",
      "Loss =  22.59529173374176\n",
      "Time =  4.105997562408447\n",
      "Accuracy Score:  0.36\n",
      "F1 Score:  0.36\n",
      "___________________________________________\n",
      "Epoch:  9 \n",
      "--------------------------\n"
     ]
    },
    {
     "data": {
      "application/vnd.jupyter.widget-view+json": {
       "model_id": "f9e9be2b677d4fdc8878be474822dd1f",
       "version_major": 2,
       "version_minor": 0
      },
      "text/plain": [
       "HBox(children=(FloatProgress(value=0.0, max=13.0), HTML(value='')))"
      ]
     },
     "metadata": {},
     "output_type": "display_data"
    },
    {
     "name": "stdout",
     "output_type": "stream",
     "text": [
      "\n",
      "Loss =  21.076433777809143\n",
      "Time =  4.010000228881836\n",
      "Accuracy Score:  0.42\n",
      "F1 Score:  0.41999999999999993\n",
      "___________________________________________\n",
      "Epoch:  10 \n",
      "--------------------------\n"
     ]
    },
    {
     "data": {
      "application/vnd.jupyter.widget-view+json": {
       "model_id": "bc9b834eea6e4418ae6760ecbba2f6cf",
       "version_major": 2,
       "version_minor": 0
      },
      "text/plain": [
       "HBox(children=(FloatProgress(value=0.0, max=13.0), HTML(value='')))"
      ]
     },
     "metadata": {},
     "output_type": "display_data"
    },
    {
     "name": "stdout",
     "output_type": "stream",
     "text": [
      "\n",
      "Loss =  20.681477069854736\n",
      "Time =  4.41600227355957\n",
      "Accuracy Score:  0.43\n",
      "F1 Score:  0.42999999999999994\n",
      "___________________________________________\n",
      "Epoch:  11 \n",
      "--------------------------\n"
     ]
    },
    {
     "data": {
      "application/vnd.jupyter.widget-view+json": {
       "model_id": "84a2d6fd195242c0ac1ae648a61b4e44",
       "version_major": 2,
       "version_minor": 0
      },
      "text/plain": [
       "HBox(children=(FloatProgress(value=0.0, max=13.0), HTML(value='')))"
      ]
     },
     "metadata": {},
     "output_type": "display_data"
    },
    {
     "name": "stdout",
     "output_type": "stream",
     "text": [
      "\n",
      "Loss =  20.630675673484802\n",
      "Time =  4.285999059677124\n",
      "Accuracy Score:  0.42\n",
      "F1 Score:  0.41999999999999993\n",
      "___________________________________________\n",
      "Epoch:  12 \n",
      "--------------------------\n"
     ]
    },
    {
     "data": {
      "application/vnd.jupyter.widget-view+json": {
       "model_id": "a5b8200f95274f2281a79ffe7559c859",
       "version_major": 2,
       "version_minor": 0
      },
      "text/plain": [
       "HBox(children=(FloatProgress(value=0.0, max=13.0), HTML(value='')))"
      ]
     },
     "metadata": {},
     "output_type": "display_data"
    },
    {
     "name": "stdout",
     "output_type": "stream",
     "text": [
      "\n",
      "Loss =  18.130861282348633\n",
      "Time =  4.12399959564209\n",
      "Accuracy Score:  0.495\n",
      "F1 Score:  0.495\n",
      "___________________________________________\n",
      "Epoch:  13 \n",
      "--------------------------\n"
     ]
    },
    {
     "data": {
      "application/vnd.jupyter.widget-view+json": {
       "model_id": "453a4816ab4a4feeb778bab3486d0fff",
       "version_major": 2,
       "version_minor": 0
      },
      "text/plain": [
       "HBox(children=(FloatProgress(value=0.0, max=13.0), HTML(value='')))"
      ]
     },
     "metadata": {},
     "output_type": "display_data"
    },
    {
     "name": "stdout",
     "output_type": "stream",
     "text": [
      "\n",
      "Loss =  14.896356344223022\n",
      "Time =  4.128995895385742\n",
      "Accuracy Score:  0.525\n",
      "F1 Score:  0.525\n",
      "___________________________________________\n",
      "Epoch:  14 \n",
      "--------------------------\n"
     ]
    },
    {
     "data": {
      "application/vnd.jupyter.widget-view+json": {
       "model_id": "90f8ceef657d4ba7a8a34c0882f33676",
       "version_major": 2,
       "version_minor": 0
      },
      "text/plain": [
       "HBox(children=(FloatProgress(value=0.0, max=13.0), HTML(value='')))"
      ]
     },
     "metadata": {},
     "output_type": "display_data"
    },
    {
     "name": "stdout",
     "output_type": "stream",
     "text": [
      "\n",
      "Loss =  15.043651521205902\n",
      "Time =  4.213002681732178\n",
      "Accuracy Score:  0.545\n",
      "F1 Score:  0.545\n",
      "___________________________________________\n",
      "Epoch:  15 \n",
      "--------------------------\n"
     ]
    },
    {
     "data": {
      "application/vnd.jupyter.widget-view+json": {
       "model_id": "231ee9f5f0fa41cebc48c720e001537e",
       "version_major": 2,
       "version_minor": 0
      },
      "text/plain": [
       "HBox(children=(FloatProgress(value=0.0, max=13.0), HTML(value='')))"
      ]
     },
     "metadata": {},
     "output_type": "display_data"
    },
    {
     "name": "stdout",
     "output_type": "stream",
     "text": [
      "\n",
      "Loss =  16.906999707221985\n",
      "Time =  4.260891675949097\n",
      "Accuracy Score:  0.51\n",
      "F1 Score:  0.51\n",
      "___________________________________________\n",
      "Epoch:  16 \n",
      "--------------------------\n"
     ]
    },
    {
     "data": {
      "application/vnd.jupyter.widget-view+json": {
       "model_id": "b023d4cae6154887be07937a9b66e8cb",
       "version_major": 2,
       "version_minor": 0
      },
      "text/plain": [
       "HBox(children=(FloatProgress(value=0.0, max=13.0), HTML(value='')))"
      ]
     },
     "metadata": {},
     "output_type": "display_data"
    },
    {
     "name": "stdout",
     "output_type": "stream",
     "text": [
      "\n",
      "Loss =  14.9858118891716\n",
      "Time =  4.142995119094849\n",
      "Accuracy Score:  0.555\n",
      "F1 Score:  0.555\n",
      "___________________________________________\n",
      "Epoch:  17 \n",
      "--------------------------\n"
     ]
    },
    {
     "data": {
      "application/vnd.jupyter.widget-view+json": {
       "model_id": "5e1b36f0a0cb466b881d7572489aae48",
       "version_major": 2,
       "version_minor": 0
      },
      "text/plain": [
       "HBox(children=(FloatProgress(value=0.0, max=13.0), HTML(value='')))"
      ]
     },
     "metadata": {},
     "output_type": "display_data"
    },
    {
     "name": "stdout",
     "output_type": "stream",
     "text": [
      "\n",
      "Loss =  13.611359715461731\n",
      "Time =  4.264477729797363\n",
      "Accuracy Score:  0.615\n",
      "F1 Score:  0.615\n",
      "___________________________________________\n",
      "Epoch:  18 \n",
      "--------------------------\n"
     ]
    },
    {
     "data": {
      "application/vnd.jupyter.widget-view+json": {
       "model_id": "f85805ae7cfc44dcba8a468693807d5f",
       "version_major": 2,
       "version_minor": 0
      },
      "text/plain": [
       "HBox(children=(FloatProgress(value=0.0, max=13.0), HTML(value='')))"
      ]
     },
     "metadata": {},
     "output_type": "display_data"
    },
    {
     "name": "stdout",
     "output_type": "stream",
     "text": [
      "\n",
      "Loss =  14.089218556880951\n",
      "Time =  4.068522214889526\n",
      "Accuracy Score:  0.58\n",
      "F1 Score:  0.58\n",
      "___________________________________________\n",
      "Epoch:  19 \n",
      "--------------------------\n"
     ]
    },
    {
     "data": {
      "application/vnd.jupyter.widget-view+json": {
       "model_id": "c6716ad9c7894a928a47e71b0fe75611",
       "version_major": 2,
       "version_minor": 0
      },
      "text/plain": [
       "HBox(children=(FloatProgress(value=0.0, max=13.0), HTML(value='')))"
      ]
     },
     "metadata": {},
     "output_type": "display_data"
    },
    {
     "name": "stdout",
     "output_type": "stream",
     "text": [
      "\n",
      "Loss =  14.25866836309433\n",
      "Time =  4.2250001430511475\n",
      "Accuracy Score:  0.6\n",
      "F1 Score:  0.6\n",
      "___________________________________________\n"
     ]
    }
   ],
   "source": [
    "'''\n",
    "# Train with freeze ResNet\n",
    "model.freeze_resnet()\n",
    "\n",
    "\n",
    "\n",
    "loss_fn = nn.CrossEntropyLoss()\n",
    "optimizer = torch.optim.AdamW(model.parameters(), lr=1e-3)\n",
    "\n",
    "model.train()\n",
    "model.to(DEVICE)\n",
    "for epoch in range(20):\n",
    "    s = time.time()\n",
    "    print('Epoch: ', epoch, '\\n--------------------------')\n",
    "    predicts = []\n",
    "    total_loss = 0\n",
    "    data_s = time.time()\n",
    "    y_true = []\n",
    "    \n",
    "    data_loader = DataLoader(train_dataset, batch_size=16, shuffle=True)\n",
    "    for img_tensors, features, one_hot_label, label in tqdm.notebook.tqdm(data_loader):\n",
    "        img_tensors = [ts.to(DEVICE) for ts in img_tensors]\n",
    "        features = features.to(DEVICE)\n",
    "        one_hot_label = one_hot_label.to(DEVICE)\n",
    "        label = label.to(DEVICE)\n",
    "        \n",
    "        optimizer.zero_grad()\n",
    "        predict = model(img_tensors, features)\n",
    "        loss = loss_fn(predict, label)\n",
    "        loss.backward()\n",
    "        optimizer.step()\n",
    "        \n",
    "        total_loss += loss.item()\n",
    "        predict = predict.detach().cpu()\n",
    "        predict = torch.argmax(predict, 1)\n",
    "        predicts.extend(predict.tolist())\n",
    "        y_true.extend(label.detach().cpu().tolist())\n",
    "\n",
    "    print('Loss = ', total_loss)\n",
    "    print('Time = ', time.time() - s)\n",
    "    print('Accuracy Score: ', accuracy_score(y_true, predicts))\n",
    "    print('F1 Score: ', f1_score(y_true, predicts, average='micro'))\n",
    "    #print(classification_report(train_data.labels.values, predicts))\n",
    "    print('___________________________________________')\n",
    "'''"
   ]
  },
  {
   "cell_type": "code",
   "execution_count": 14,
   "metadata": {
    "collapsed": true,
    "jupyter": {
     "outputs_hidden": true
    }
   },
   "outputs": [
    {
     "data": {
      "application/vnd.jupyter.widget-view+json": {
       "model_id": "740f9ff4c4d54744b8a6697683567f01",
       "version_major": 2,
       "version_minor": 0
      },
      "text/plain": [
       "HBox(children=(FloatProgress(value=0.0, max=1.0), HTML(value='')))"
      ]
     },
     "metadata": {},
     "output_type": "display_data"
    },
    {
     "name": "stdout",
     "output_type": "stream",
     "text": [
      "\n",
      "Time =  1.264162540435791\n",
      "Accuracy Score:  0.61\n",
      "F1 Score:  0.61\n",
      "              precision    recall  f1-score   support\n",
      "\n",
      "           0       0.80      0.80      0.80         5\n",
      "           1       1.00      0.20      0.33         5\n",
      "           2       0.40      0.80      0.53         5\n",
      "           3       0.20      0.20      0.20         5\n",
      "           4       1.00      0.80      0.89         5\n",
      "           5       1.00      1.00      1.00         5\n",
      "           6       0.50      0.60      0.55         5\n",
      "           7       0.60      0.60      0.60         5\n",
      "           8       1.00      0.40      0.57         5\n",
      "           9       0.83      1.00      0.91         5\n",
      "          10       0.62      1.00      0.77         5\n",
      "          11       0.67      0.40      0.50         5\n",
      "          12       0.80      0.80      0.80         5\n",
      "          13       0.33      0.40      0.36         5\n",
      "          14       0.50      0.40      0.44         5\n",
      "          15       0.00      0.00      0.00         5\n",
      "          16       0.50      0.20      0.29         5\n",
      "          17       0.83      1.00      0.91         5\n",
      "          18       0.67      0.80      0.73         5\n",
      "          19       0.50      0.80      0.62         5\n",
      "\n",
      "    accuracy                           0.61       100\n",
      "   macro avg       0.64      0.61      0.59       100\n",
      "weighted avg       0.64      0.61      0.59       100\n",
      "\n",
      "___________________________________________\n"
     ]
    }
   ],
   "source": [
    "'''\n",
    "data_loader = DataLoader(test_dataset, batch_size=100)\n",
    "\n",
    "model.eval()\n",
    "model.to(DEVICE)\n",
    "\n",
    "s = time.time()\n",
    "predicts = []\n",
    "for img_tensors, features, one_hot_label, label in tqdm.notebook.tqdm(data_loader):\n",
    "    img_tensors = [ts.to(DEVICE) for ts in img_tensors]\n",
    "    features = features.to(DEVICE)\n",
    "    one_hot_label = one_hot_label.to(DEVICE)\n",
    "    label = label.to(DEVICE)\n",
    "\n",
    "    with torch.no_grad():\n",
    "        predict = model(img_tensors, features)\n",
    "    predict = predict.detach().cpu()\n",
    "    predict = torch.argmax(predict, 1)\n",
    "    predicts.extend(predict.tolist())\n",
    "\n",
    "print('Time = ', time.time() - s)\n",
    "print('Accuracy Score: ', accuracy_score(test_data.labels.values, predicts))\n",
    "print('F1 Score: ', f1_score(test_data.labels.values, predicts, average='micro'))\n",
    "print(classification_report(test_data.labels.values, predicts))\n",
    "print('___________________________________________')\n",
    "'''"
   ]
  },
  {
   "cell_type": "code",
   "execution_count": 4,
   "metadata": {},
   "outputs": [
    {
     "name": "stdout",
     "output_type": "stream",
     "text": [
      "[0.91075269 0.62545954 0.80991592 0.25598213 0.62484393 0.56852161\n",
      " 0.6023078  0.85962197 0.58594148 0.71751927 0.63595238 0.54438226\n",
      " 0.80210554 0.49356448 0.23229472 0.16596729 0.72654457 0.27764698\n",
      " 0.40008063 0.74716446]\n",
      "0.579328482939334\n"
     ]
    }
   ],
   "source": [
    "onehot_true = np.array(list(i.numpy() for i in train_data.one_hot_labels.values))\n",
    "onehot_predict = torch.stack(last_predict_matrix).numpy()\n",
    "APs = list(average_precision_score(onehot_true[:,i], onehot_predict[:,i]) for i in range(20))\n",
    "print(np.array(APs))\n",
    "print(sum(APs)/len(APs))"
   ]
  }
 ],
 "metadata": {
  "kernelspec": {
   "display_name": "Python 3",
   "language": "python",
   "name": "python3"
  },
  "language_info": {
   "codemirror_mode": {
    "name": "ipython",
    "version": 3
   },
   "file_extension": ".py",
   "mimetype": "text/x-python",
   "name": "python",
   "nbconvert_exporter": "python",
   "pygments_lexer": "ipython3",
   "version": "3.7.3"
  }
 },
 "nbformat": 4,
 "nbformat_minor": 4
}
